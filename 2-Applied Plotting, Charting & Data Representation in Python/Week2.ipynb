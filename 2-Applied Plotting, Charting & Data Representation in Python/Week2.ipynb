{
 "cells": [
  {
   "cell_type": "markdown",
   "metadata": {},
   "source": [
    "# Basic Plotting with matplotlib"
   ]
  },
  {
   "cell_type": "markdown",
   "metadata": {},
   "source": [
    "You can show matplotlib figures directly in the notebook by using the `%matplotlib notebook` and `%matplotlib inline` magic commands. \n",
    "\n",
    "`%matplotlib notebook` provides an interactive environment."
   ]
  },
  {
   "cell_type": "code",
   "execution_count": 1,
   "metadata": {
    "collapsed": false
   },
   "outputs": [],
   "source": [
    "%matplotlib notebook"
   ]
  },
  {
   "cell_type": "code",
   "execution_count": 2,
   "metadata": {
    "collapsed": false
   },
   "outputs": [
    {
     "data": {
      "text/plain": [
       "'nbAgg'"
      ]
     },
     "execution_count": 2,
     "metadata": {},
     "output_type": "execute_result"
    }
   ],
   "source": [
    "import matplotlib as mpl\n",
    "mpl.get_backend()"
   ]
  },
  {
   "cell_type": "code",
   "execution_count": 3,
   "metadata": {
    "collapsed": false
   },
   "outputs": [],
   "source": [
    "import matplotlib.pyplot as plt\n",
    "plt.plot?"
   ]
  },
  {
   "cell_type": "code",
   "execution_count": 4,
   "metadata": {
    "collapsed": false
   },
   "outputs": [
    {
     "data": {
      "application/javascript": [
       "/* Put everything inside the global mpl namespace */\n",
       "window.mpl = {};\n",
       "\n",
       "\n",
       "mpl.get_websocket_type = function() {\n",
       "    if (typeof(WebSocket) !== 'undefined') {\n",
       "        return WebSocket;\n",
       "    } else if (typeof(MozWebSocket) !== 'undefined') {\n",
       "        return MozWebSocket;\n",
       "    } else {\n",
       "        alert('Your browser does not have WebSocket support.' +\n",
       "              'Please try Chrome, Safari or Firefox ≥ 6. ' +\n",
       "              'Firefox 4 and 5 are also supported but you ' +\n",
       "              'have to enable WebSockets in about:config.');\n",
       "    };\n",
       "}\n",
       "\n",
       "mpl.figure = function(figure_id, websocket, ondownload, parent_element) {\n",
       "    this.id = figure_id;\n",
       "\n",
       "    this.ws = websocket;\n",
       "\n",
       "    this.supports_binary = (this.ws.binaryType != undefined);\n",
       "\n",
       "    if (!this.supports_binary) {\n",
       "        var warnings = document.getElementById(\"mpl-warnings\");\n",
       "        if (warnings) {\n",
       "            warnings.style.display = 'block';\n",
       "            warnings.textContent = (\n",
       "                \"This browser does not support binary websocket messages. \" +\n",
       "                    \"Performance may be slow.\");\n",
       "        }\n",
       "    }\n",
       "\n",
       "    this.imageObj = new Image();\n",
       "\n",
       "    this.context = undefined;\n",
       "    this.message = undefined;\n",
       "    this.canvas = undefined;\n",
       "    this.rubberband_canvas = undefined;\n",
       "    this.rubberband_context = undefined;\n",
       "    this.format_dropdown = undefined;\n",
       "\n",
       "    this.image_mode = 'full';\n",
       "\n",
       "    this.root = $('<div/>');\n",
       "    this._root_extra_style(this.root)\n",
       "    this.root.attr('style', 'display: inline-block');\n",
       "\n",
       "    $(parent_element).append(this.root);\n",
       "\n",
       "    this._init_header(this);\n",
       "    this._init_canvas(this);\n",
       "    this._init_toolbar(this);\n",
       "\n",
       "    var fig = this;\n",
       "\n",
       "    this.waiting = false;\n",
       "\n",
       "    this.ws.onopen =  function () {\n",
       "            fig.send_message(\"supports_binary\", {value: fig.supports_binary});\n",
       "            fig.send_message(\"send_image_mode\", {});\n",
       "            if (mpl.ratio != 1) {\n",
       "                fig.send_message(\"set_dpi_ratio\", {'dpi_ratio': mpl.ratio});\n",
       "            }\n",
       "            fig.send_message(\"refresh\", {});\n",
       "        }\n",
       "\n",
       "    this.imageObj.onload = function() {\n",
       "            if (fig.image_mode == 'full') {\n",
       "                // Full images could contain transparency (where diff images\n",
       "                // almost always do), so we need to clear the canvas so that\n",
       "                // there is no ghosting.\n",
       "                fig.context.clearRect(0, 0, fig.canvas.width, fig.canvas.height);\n",
       "            }\n",
       "            fig.context.drawImage(fig.imageObj, 0, 0);\n",
       "        };\n",
       "\n",
       "    this.imageObj.onunload = function() {\n",
       "        this.ws.close();\n",
       "    }\n",
       "\n",
       "    this.ws.onmessage = this._make_on_message_function(this);\n",
       "\n",
       "    this.ondownload = ondownload;\n",
       "}\n",
       "\n",
       "mpl.figure.prototype._init_header = function() {\n",
       "    var titlebar = $(\n",
       "        '<div class=\"ui-dialog-titlebar ui-widget-header ui-corner-all ' +\n",
       "        'ui-helper-clearfix\"/>');\n",
       "    var titletext = $(\n",
       "        '<div class=\"ui-dialog-title\" style=\"width: 100%; ' +\n",
       "        'text-align: center; padding: 3px;\"/>');\n",
       "    titlebar.append(titletext)\n",
       "    this.root.append(titlebar);\n",
       "    this.header = titletext[0];\n",
       "}\n",
       "\n",
       "\n",
       "\n",
       "mpl.figure.prototype._canvas_extra_style = function(canvas_div) {\n",
       "\n",
       "}\n",
       "\n",
       "\n",
       "mpl.figure.prototype._root_extra_style = function(canvas_div) {\n",
       "\n",
       "}\n",
       "\n",
       "mpl.figure.prototype._init_canvas = function() {\n",
       "    var fig = this;\n",
       "\n",
       "    var canvas_div = $('<div/>');\n",
       "\n",
       "    canvas_div.attr('style', 'position: relative; clear: both; outline: 0');\n",
       "\n",
       "    function canvas_keyboard_event(event) {\n",
       "        return fig.key_event(event, event['data']);\n",
       "    }\n",
       "\n",
       "    canvas_div.keydown('key_press', canvas_keyboard_event);\n",
       "    canvas_div.keyup('key_release', canvas_keyboard_event);\n",
       "    this.canvas_div = canvas_div\n",
       "    this._canvas_extra_style(canvas_div)\n",
       "    this.root.append(canvas_div);\n",
       "\n",
       "    var canvas = $('<canvas/>');\n",
       "    canvas.addClass('mpl-canvas');\n",
       "    canvas.attr('style', \"left: 0; top: 0; z-index: 0; outline: 0\")\n",
       "\n",
       "    this.canvas = canvas[0];\n",
       "    this.context = canvas[0].getContext(\"2d\");\n",
       "\n",
       "    var backingStore = this.context.backingStorePixelRatio ||\n",
       "\tthis.context.webkitBackingStorePixelRatio ||\n",
       "\tthis.context.mozBackingStorePixelRatio ||\n",
       "\tthis.context.msBackingStorePixelRatio ||\n",
       "\tthis.context.oBackingStorePixelRatio ||\n",
       "\tthis.context.backingStorePixelRatio || 1;\n",
       "\n",
       "    mpl.ratio = (window.devicePixelRatio || 1) / backingStore;\n",
       "\n",
       "    var rubberband = $('<canvas/>');\n",
       "    rubberband.attr('style', \"position: absolute; left: 0; top: 0; z-index: 1;\")\n",
       "\n",
       "    var pass_mouse_events = true;\n",
       "\n",
       "    canvas_div.resizable({\n",
       "        start: function(event, ui) {\n",
       "            pass_mouse_events = false;\n",
       "        },\n",
       "        resize: function(event, ui) {\n",
       "            fig.request_resize(ui.size.width, ui.size.height);\n",
       "        },\n",
       "        stop: function(event, ui) {\n",
       "            pass_mouse_events = true;\n",
       "            fig.request_resize(ui.size.width, ui.size.height);\n",
       "        },\n",
       "    });\n",
       "\n",
       "    function mouse_event_fn(event) {\n",
       "        if (pass_mouse_events)\n",
       "            return fig.mouse_event(event, event['data']);\n",
       "    }\n",
       "\n",
       "    rubberband.mousedown('button_press', mouse_event_fn);\n",
       "    rubberband.mouseup('button_release', mouse_event_fn);\n",
       "    // Throttle sequential mouse events to 1 every 20ms.\n",
       "    rubberband.mousemove('motion_notify', mouse_event_fn);\n",
       "\n",
       "    rubberband.mouseenter('figure_enter', mouse_event_fn);\n",
       "    rubberband.mouseleave('figure_leave', mouse_event_fn);\n",
       "\n",
       "    canvas_div.on(\"wheel\", function (event) {\n",
       "        event = event.originalEvent;\n",
       "        event['data'] = 'scroll'\n",
       "        if (event.deltaY < 0) {\n",
       "            event.step = 1;\n",
       "        } else {\n",
       "            event.step = -1;\n",
       "        }\n",
       "        mouse_event_fn(event);\n",
       "    });\n",
       "\n",
       "    canvas_div.append(canvas);\n",
       "    canvas_div.append(rubberband);\n",
       "\n",
       "    this.rubberband = rubberband;\n",
       "    this.rubberband_canvas = rubberband[0];\n",
       "    this.rubberband_context = rubberband[0].getContext(\"2d\");\n",
       "    this.rubberband_context.strokeStyle = \"#000000\";\n",
       "\n",
       "    this._resize_canvas = function(width, height) {\n",
       "        // Keep the size of the canvas, canvas container, and rubber band\n",
       "        // canvas in synch.\n",
       "        canvas_div.css('width', width)\n",
       "        canvas_div.css('height', height)\n",
       "\n",
       "        canvas.attr('width', width * mpl.ratio);\n",
       "        canvas.attr('height', height * mpl.ratio);\n",
       "        canvas.attr('style', 'width: ' + width + 'px; height: ' + height + 'px;');\n",
       "\n",
       "        rubberband.attr('width', width);\n",
       "        rubberband.attr('height', height);\n",
       "    }\n",
       "\n",
       "    // Set the figure to an initial 600x600px, this will subsequently be updated\n",
       "    // upon first draw.\n",
       "    this._resize_canvas(600, 600);\n",
       "\n",
       "    // Disable right mouse context menu.\n",
       "    $(this.rubberband_canvas).bind(\"contextmenu\",function(e){\n",
       "        return false;\n",
       "    });\n",
       "\n",
       "    function set_focus () {\n",
       "        canvas.focus();\n",
       "        canvas_div.focus();\n",
       "    }\n",
       "\n",
       "    window.setTimeout(set_focus, 100);\n",
       "}\n",
       "\n",
       "mpl.figure.prototype._init_toolbar = function() {\n",
       "    var fig = this;\n",
       "\n",
       "    var nav_element = $('<div/>')\n",
       "    nav_element.attr('style', 'width: 100%');\n",
       "    this.root.append(nav_element);\n",
       "\n",
       "    // Define a callback function for later on.\n",
       "    function toolbar_event(event) {\n",
       "        return fig.toolbar_button_onclick(event['data']);\n",
       "    }\n",
       "    function toolbar_mouse_event(event) {\n",
       "        return fig.toolbar_button_onmouseover(event['data']);\n",
       "    }\n",
       "\n",
       "    for(var toolbar_ind in mpl.toolbar_items) {\n",
       "        var name = mpl.toolbar_items[toolbar_ind][0];\n",
       "        var tooltip = mpl.toolbar_items[toolbar_ind][1];\n",
       "        var image = mpl.toolbar_items[toolbar_ind][2];\n",
       "        var method_name = mpl.toolbar_items[toolbar_ind][3];\n",
       "\n",
       "        if (!name) {\n",
       "            // put a spacer in here.\n",
       "            continue;\n",
       "        }\n",
       "        var button = $('<button/>');\n",
       "        button.addClass('ui-button ui-widget ui-state-default ui-corner-all ' +\n",
       "                        'ui-button-icon-only');\n",
       "        button.attr('role', 'button');\n",
       "        button.attr('aria-disabled', 'false');\n",
       "        button.click(method_name, toolbar_event);\n",
       "        button.mouseover(tooltip, toolbar_mouse_event);\n",
       "\n",
       "        var icon_img = $('<span/>');\n",
       "        icon_img.addClass('ui-button-icon-primary ui-icon');\n",
       "        icon_img.addClass(image);\n",
       "        icon_img.addClass('ui-corner-all');\n",
       "\n",
       "        var tooltip_span = $('<span/>');\n",
       "        tooltip_span.addClass('ui-button-text');\n",
       "        tooltip_span.html(tooltip);\n",
       "\n",
       "        button.append(icon_img);\n",
       "        button.append(tooltip_span);\n",
       "\n",
       "        nav_element.append(button);\n",
       "    }\n",
       "\n",
       "    var fmt_picker_span = $('<span/>');\n",
       "\n",
       "    var fmt_picker = $('<select/>');\n",
       "    fmt_picker.addClass('mpl-toolbar-option ui-widget ui-widget-content');\n",
       "    fmt_picker_span.append(fmt_picker);\n",
       "    nav_element.append(fmt_picker_span);\n",
       "    this.format_dropdown = fmt_picker[0];\n",
       "\n",
       "    for (var ind in mpl.extensions) {\n",
       "        var fmt = mpl.extensions[ind];\n",
       "        var option = $(\n",
       "            '<option/>', {selected: fmt === mpl.default_extension}).html(fmt);\n",
       "        fmt_picker.append(option)\n",
       "    }\n",
       "\n",
       "    // Add hover states to the ui-buttons\n",
       "    $( \".ui-button\" ).hover(\n",
       "        function() { $(this).addClass(\"ui-state-hover\");},\n",
       "        function() { $(this).removeClass(\"ui-state-hover\");}\n",
       "    );\n",
       "\n",
       "    var status_bar = $('<span class=\"mpl-message\"/>');\n",
       "    nav_element.append(status_bar);\n",
       "    this.message = status_bar[0];\n",
       "}\n",
       "\n",
       "mpl.figure.prototype.request_resize = function(x_pixels, y_pixels) {\n",
       "    // Request matplotlib to resize the figure. Matplotlib will then trigger a resize in the client,\n",
       "    // which will in turn request a refresh of the image.\n",
       "    this.send_message('resize', {'width': x_pixels, 'height': y_pixels});\n",
       "}\n",
       "\n",
       "mpl.figure.prototype.send_message = function(type, properties) {\n",
       "    properties['type'] = type;\n",
       "    properties['figure_id'] = this.id;\n",
       "    this.ws.send(JSON.stringify(properties));\n",
       "}\n",
       "\n",
       "mpl.figure.prototype.send_draw_message = function() {\n",
       "    if (!this.waiting) {\n",
       "        this.waiting = true;\n",
       "        this.ws.send(JSON.stringify({type: \"draw\", figure_id: this.id}));\n",
       "    }\n",
       "}\n",
       "\n",
       "\n",
       "mpl.figure.prototype.handle_save = function(fig, msg) {\n",
       "    var format_dropdown = fig.format_dropdown;\n",
       "    var format = format_dropdown.options[format_dropdown.selectedIndex].value;\n",
       "    fig.ondownload(fig, format);\n",
       "}\n",
       "\n",
       "\n",
       "mpl.figure.prototype.handle_resize = function(fig, msg) {\n",
       "    var size = msg['size'];\n",
       "    if (size[0] != fig.canvas.width || size[1] != fig.canvas.height) {\n",
       "        fig._resize_canvas(size[0], size[1]);\n",
       "        fig.send_message(\"refresh\", {});\n",
       "    };\n",
       "}\n",
       "\n",
       "mpl.figure.prototype.handle_rubberband = function(fig, msg) {\n",
       "    var x0 = msg['x0'] / mpl.ratio;\n",
       "    var y0 = (fig.canvas.height - msg['y0']) / mpl.ratio;\n",
       "    var x1 = msg['x1'] / mpl.ratio;\n",
       "    var y1 = (fig.canvas.height - msg['y1']) / mpl.ratio;\n",
       "    x0 = Math.floor(x0) + 0.5;\n",
       "    y0 = Math.floor(y0) + 0.5;\n",
       "    x1 = Math.floor(x1) + 0.5;\n",
       "    y1 = Math.floor(y1) + 0.5;\n",
       "    var min_x = Math.min(x0, x1);\n",
       "    var min_y = Math.min(y0, y1);\n",
       "    var width = Math.abs(x1 - x0);\n",
       "    var height = Math.abs(y1 - y0);\n",
       "\n",
       "    fig.rubberband_context.clearRect(\n",
       "        0, 0, fig.canvas.width, fig.canvas.height);\n",
       "\n",
       "    fig.rubberband_context.strokeRect(min_x, min_y, width, height);\n",
       "}\n",
       "\n",
       "mpl.figure.prototype.handle_figure_label = function(fig, msg) {\n",
       "    // Updates the figure title.\n",
       "    fig.header.textContent = msg['label'];\n",
       "}\n",
       "\n",
       "mpl.figure.prototype.handle_cursor = function(fig, msg) {\n",
       "    var cursor = msg['cursor'];\n",
       "    switch(cursor)\n",
       "    {\n",
       "    case 0:\n",
       "        cursor = 'pointer';\n",
       "        break;\n",
       "    case 1:\n",
       "        cursor = 'default';\n",
       "        break;\n",
       "    case 2:\n",
       "        cursor = 'crosshair';\n",
       "        break;\n",
       "    case 3:\n",
       "        cursor = 'move';\n",
       "        break;\n",
       "    }\n",
       "    fig.rubberband_canvas.style.cursor = cursor;\n",
       "}\n",
       "\n",
       "mpl.figure.prototype.handle_message = function(fig, msg) {\n",
       "    fig.message.textContent = msg['message'];\n",
       "}\n",
       "\n",
       "mpl.figure.prototype.handle_draw = function(fig, msg) {\n",
       "    // Request the server to send over a new figure.\n",
       "    fig.send_draw_message();\n",
       "}\n",
       "\n",
       "mpl.figure.prototype.handle_image_mode = function(fig, msg) {\n",
       "    fig.image_mode = msg['mode'];\n",
       "}\n",
       "\n",
       "mpl.figure.prototype.updated_canvas_event = function() {\n",
       "    // Called whenever the canvas gets updated.\n",
       "    this.send_message(\"ack\", {});\n",
       "}\n",
       "\n",
       "// A function to construct a web socket function for onmessage handling.\n",
       "// Called in the figure constructor.\n",
       "mpl.figure.prototype._make_on_message_function = function(fig) {\n",
       "    return function socket_on_message(evt) {\n",
       "        if (evt.data instanceof Blob) {\n",
       "            /* FIXME: We get \"Resource interpreted as Image but\n",
       "             * transferred with MIME type text/plain:\" errors on\n",
       "             * Chrome.  But how to set the MIME type?  It doesn't seem\n",
       "             * to be part of the websocket stream */\n",
       "            evt.data.type = \"image/png\";\n",
       "\n",
       "            /* Free the memory for the previous frames */\n",
       "            if (fig.imageObj.src) {\n",
       "                (window.URL || window.webkitURL).revokeObjectURL(\n",
       "                    fig.imageObj.src);\n",
       "            }\n",
       "\n",
       "            fig.imageObj.src = (window.URL || window.webkitURL).createObjectURL(\n",
       "                evt.data);\n",
       "            fig.updated_canvas_event();\n",
       "            fig.waiting = false;\n",
       "            return;\n",
       "        }\n",
       "        else if (typeof evt.data === 'string' && evt.data.slice(0, 21) == \"data:image/png;base64\") {\n",
       "            fig.imageObj.src = evt.data;\n",
       "            fig.updated_canvas_event();\n",
       "            fig.waiting = false;\n",
       "            return;\n",
       "        }\n",
       "\n",
       "        var msg = JSON.parse(evt.data);\n",
       "        var msg_type = msg['type'];\n",
       "\n",
       "        // Call the  \"handle_{type}\" callback, which takes\n",
       "        // the figure and JSON message as its only arguments.\n",
       "        try {\n",
       "            var callback = fig[\"handle_\" + msg_type];\n",
       "        } catch (e) {\n",
       "            console.log(\"No handler for the '\" + msg_type + \"' message type: \", msg);\n",
       "            return;\n",
       "        }\n",
       "\n",
       "        if (callback) {\n",
       "            try {\n",
       "                // console.log(\"Handling '\" + msg_type + \"' message: \", msg);\n",
       "                callback(fig, msg);\n",
       "            } catch (e) {\n",
       "                console.log(\"Exception inside the 'handler_\" + msg_type + \"' callback:\", e, e.stack, msg);\n",
       "            }\n",
       "        }\n",
       "    };\n",
       "}\n",
       "\n",
       "// from http://stackoverflow.com/questions/1114465/getting-mouse-location-in-canvas\n",
       "mpl.findpos = function(e) {\n",
       "    //this section is from http://www.quirksmode.org/js/events_properties.html\n",
       "    var targ;\n",
       "    if (!e)\n",
       "        e = window.event;\n",
       "    if (e.target)\n",
       "        targ = e.target;\n",
       "    else if (e.srcElement)\n",
       "        targ = e.srcElement;\n",
       "    if (targ.nodeType == 3) // defeat Safari bug\n",
       "        targ = targ.parentNode;\n",
       "\n",
       "    // jQuery normalizes the pageX and pageY\n",
       "    // pageX,Y are the mouse positions relative to the document\n",
       "    // offset() returns the position of the element relative to the document\n",
       "    var x = e.pageX - $(targ).offset().left;\n",
       "    var y = e.pageY - $(targ).offset().top;\n",
       "\n",
       "    return {\"x\": x, \"y\": y};\n",
       "};\n",
       "\n",
       "/*\n",
       " * return a copy of an object with only non-object keys\n",
       " * we need this to avoid circular references\n",
       " * http://stackoverflow.com/a/24161582/3208463\n",
       " */\n",
       "function simpleKeys (original) {\n",
       "  return Object.keys(original).reduce(function (obj, key) {\n",
       "    if (typeof original[key] !== 'object')\n",
       "        obj[key] = original[key]\n",
       "    return obj;\n",
       "  }, {});\n",
       "}\n",
       "\n",
       "mpl.figure.prototype.mouse_event = function(event, name) {\n",
       "    var canvas_pos = mpl.findpos(event)\n",
       "\n",
       "    if (name === 'button_press')\n",
       "    {\n",
       "        this.canvas.focus();\n",
       "        this.canvas_div.focus();\n",
       "    }\n",
       "\n",
       "    var x = canvas_pos.x * mpl.ratio;\n",
       "    var y = canvas_pos.y * mpl.ratio;\n",
       "\n",
       "    this.send_message(name, {x: x, y: y, button: event.button,\n",
       "                             step: event.step,\n",
       "                             guiEvent: simpleKeys(event)});\n",
       "\n",
       "    /* This prevents the web browser from automatically changing to\n",
       "     * the text insertion cursor when the button is pressed.  We want\n",
       "     * to control all of the cursor setting manually through the\n",
       "     * 'cursor' event from matplotlib */\n",
       "    event.preventDefault();\n",
       "    return false;\n",
       "}\n",
       "\n",
       "mpl.figure.prototype._key_event_extra = function(event, name) {\n",
       "    // Handle any extra behaviour associated with a key event\n",
       "}\n",
       "\n",
       "mpl.figure.prototype.key_event = function(event, name) {\n",
       "\n",
       "    // Prevent repeat events\n",
       "    if (name == 'key_press')\n",
       "    {\n",
       "        if (event.which === this._key)\n",
       "            return;\n",
       "        else\n",
       "            this._key = event.which;\n",
       "    }\n",
       "    if (name == 'key_release')\n",
       "        this._key = null;\n",
       "\n",
       "    var value = '';\n",
       "    if (event.ctrlKey && event.which != 17)\n",
       "        value += \"ctrl+\";\n",
       "    if (event.altKey && event.which != 18)\n",
       "        value += \"alt+\";\n",
       "    if (event.shiftKey && event.which != 16)\n",
       "        value += \"shift+\";\n",
       "\n",
       "    value += 'k';\n",
       "    value += event.which.toString();\n",
       "\n",
       "    this._key_event_extra(event, name);\n",
       "\n",
       "    this.send_message(name, {key: value,\n",
       "                             guiEvent: simpleKeys(event)});\n",
       "    return false;\n",
       "}\n",
       "\n",
       "mpl.figure.prototype.toolbar_button_onclick = function(name) {\n",
       "    if (name == 'download') {\n",
       "        this.handle_save(this, null);\n",
       "    } else {\n",
       "        this.send_message(\"toolbar_button\", {name: name});\n",
       "    }\n",
       "};\n",
       "\n",
       "mpl.figure.prototype.toolbar_button_onmouseover = function(tooltip) {\n",
       "    this.message.textContent = tooltip;\n",
       "};\n",
       "mpl.toolbar_items = [[\"Home\", \"Reset original view\", \"fa fa-home icon-home\", \"home\"], [\"Back\", \"Back to  previous view\", \"fa fa-arrow-left icon-arrow-left\", \"back\"], [\"Forward\", \"Forward to next view\", \"fa fa-arrow-right icon-arrow-right\", \"forward\"], [\"\", \"\", \"\", \"\"], [\"Pan\", \"Pan axes with left mouse, zoom with right\", \"fa fa-arrows icon-move\", \"pan\"], [\"Zoom\", \"Zoom to rectangle\", \"fa fa-square-o icon-check-empty\", \"zoom\"], [\"\", \"\", \"\", \"\"], [\"Download\", \"Download plot\", \"fa fa-floppy-o icon-save\", \"download\"]];\n",
       "\n",
       "mpl.extensions = [\"eps\", \"jpeg\", \"pdf\", \"png\", \"ps\", \"raw\", \"svg\", \"tif\"];\n",
       "\n",
       "mpl.default_extension = \"png\";var comm_websocket_adapter = function(comm) {\n",
       "    // Create a \"websocket\"-like object which calls the given IPython comm\n",
       "    // object with the appropriate methods. Currently this is a non binary\n",
       "    // socket, so there is still some room for performance tuning.\n",
       "    var ws = {};\n",
       "\n",
       "    ws.close = function() {\n",
       "        comm.close()\n",
       "    };\n",
       "    ws.send = function(m) {\n",
       "        //console.log('sending', m);\n",
       "        comm.send(m);\n",
       "    };\n",
       "    // Register the callback with on_msg.\n",
       "    comm.on_msg(function(msg) {\n",
       "        //console.log('receiving', msg['content']['data'], msg);\n",
       "        // Pass the mpl event to the overriden (by mpl) onmessage function.\n",
       "        ws.onmessage(msg['content']['data'])\n",
       "    });\n",
       "    return ws;\n",
       "}\n",
       "\n",
       "mpl.mpl_figure_comm = function(comm, msg) {\n",
       "    // This is the function which gets called when the mpl process\n",
       "    // starts-up an IPython Comm through the \"matplotlib\" channel.\n",
       "\n",
       "    var id = msg.content.data.id;\n",
       "    // Get hold of the div created by the display call when the Comm\n",
       "    // socket was opened in Python.\n",
       "    var element = $(\"#\" + id);\n",
       "    var ws_proxy = comm_websocket_adapter(comm)\n",
       "\n",
       "    function ondownload(figure, format) {\n",
       "        window.open(figure.imageObj.src);\n",
       "    }\n",
       "\n",
       "    var fig = new mpl.figure(id, ws_proxy,\n",
       "                           ondownload,\n",
       "                           element.get(0));\n",
       "\n",
       "    // Call onopen now - mpl needs it, as it is assuming we've passed it a real\n",
       "    // web socket which is closed, not our websocket->open comm proxy.\n",
       "    ws_proxy.onopen();\n",
       "\n",
       "    fig.parent_element = element.get(0);\n",
       "    fig.cell_info = mpl.find_output_cell(\"<div id='\" + id + \"'></div>\");\n",
       "    if (!fig.cell_info) {\n",
       "        console.error(\"Failed to find cell for figure\", id, fig);\n",
       "        return;\n",
       "    }\n",
       "\n",
       "    var output_index = fig.cell_info[2]\n",
       "    var cell = fig.cell_info[0];\n",
       "\n",
       "};\n",
       "\n",
       "mpl.figure.prototype.handle_close = function(fig, msg) {\n",
       "    var width = fig.canvas.width/mpl.ratio\n",
       "    fig.root.unbind('remove')\n",
       "\n",
       "    // Update the output cell to use the data from the current canvas.\n",
       "    fig.push_to_output();\n",
       "    var dataURL = fig.canvas.toDataURL();\n",
       "    // Re-enable the keyboard manager in IPython - without this line, in FF,\n",
       "    // the notebook keyboard shortcuts fail.\n",
       "    IPython.keyboard_manager.enable()\n",
       "    $(fig.parent_element).html('<img src=\"' + dataURL + '\" width=\"' + width + '\">');\n",
       "    fig.close_ws(fig, msg);\n",
       "}\n",
       "\n",
       "mpl.figure.prototype.close_ws = function(fig, msg){\n",
       "    fig.send_message('closing', msg);\n",
       "    // fig.ws.close()\n",
       "}\n",
       "\n",
       "mpl.figure.prototype.push_to_output = function(remove_interactive) {\n",
       "    // Turn the data on the canvas into data in the output cell.\n",
       "    var width = this.canvas.width/mpl.ratio\n",
       "    var dataURL = this.canvas.toDataURL();\n",
       "    this.cell_info[1]['text/html'] = '<img src=\"' + dataURL + '\" width=\"' + width + '\">';\n",
       "}\n",
       "\n",
       "mpl.figure.prototype.updated_canvas_event = function() {\n",
       "    // Tell IPython that the notebook contents must change.\n",
       "    IPython.notebook.set_dirty(true);\n",
       "    this.send_message(\"ack\", {});\n",
       "    var fig = this;\n",
       "    // Wait a second, then push the new image to the DOM so\n",
       "    // that it is saved nicely (might be nice to debounce this).\n",
       "    setTimeout(function () { fig.push_to_output() }, 1000);\n",
       "}\n",
       "\n",
       "mpl.figure.prototype._init_toolbar = function() {\n",
       "    var fig = this;\n",
       "\n",
       "    var nav_element = $('<div/>')\n",
       "    nav_element.attr('style', 'width: 100%');\n",
       "    this.root.append(nav_element);\n",
       "\n",
       "    // Define a callback function for later on.\n",
       "    function toolbar_event(event) {\n",
       "        return fig.toolbar_button_onclick(event['data']);\n",
       "    }\n",
       "    function toolbar_mouse_event(event) {\n",
       "        return fig.toolbar_button_onmouseover(event['data']);\n",
       "    }\n",
       "\n",
       "    for(var toolbar_ind in mpl.toolbar_items){\n",
       "        var name = mpl.toolbar_items[toolbar_ind][0];\n",
       "        var tooltip = mpl.toolbar_items[toolbar_ind][1];\n",
       "        var image = mpl.toolbar_items[toolbar_ind][2];\n",
       "        var method_name = mpl.toolbar_items[toolbar_ind][3];\n",
       "\n",
       "        if (!name) { continue; };\n",
       "\n",
       "        var button = $('<button class=\"btn btn-default\" href=\"#\" title=\"' + name + '\"><i class=\"fa ' + image + ' fa-lg\"></i></button>');\n",
       "        button.click(method_name, toolbar_event);\n",
       "        button.mouseover(tooltip, toolbar_mouse_event);\n",
       "        nav_element.append(button);\n",
       "    }\n",
       "\n",
       "    // Add the status bar.\n",
       "    var status_bar = $('<span class=\"mpl-message\" style=\"text-align:right; float: right;\"/>');\n",
       "    nav_element.append(status_bar);\n",
       "    this.message = status_bar[0];\n",
       "\n",
       "    // Add the close button to the window.\n",
       "    var buttongrp = $('<div class=\"btn-group inline pull-right\"></div>');\n",
       "    var button = $('<button class=\"btn btn-mini btn-primary\" href=\"#\" title=\"Stop Interaction\"><i class=\"fa fa-power-off icon-remove icon-large\"></i></button>');\n",
       "    button.click(function (evt) { fig.handle_close(fig, {}); } );\n",
       "    button.mouseover('Stop Interaction', toolbar_mouse_event);\n",
       "    buttongrp.append(button);\n",
       "    var titlebar = this.root.find($('.ui-dialog-titlebar'));\n",
       "    titlebar.prepend(buttongrp);\n",
       "}\n",
       "\n",
       "mpl.figure.prototype._root_extra_style = function(el){\n",
       "    var fig = this\n",
       "    el.on(\"remove\", function(){\n",
       "\tfig.close_ws(fig, {});\n",
       "    });\n",
       "}\n",
       "\n",
       "mpl.figure.prototype._canvas_extra_style = function(el){\n",
       "    // this is important to make the div 'focusable\n",
       "    el.attr('tabindex', 0)\n",
       "    // reach out to IPython and tell the keyboard manager to turn it's self\n",
       "    // off when our div gets focus\n",
       "\n",
       "    // location in version 3\n",
       "    if (IPython.notebook.keyboard_manager) {\n",
       "        IPython.notebook.keyboard_manager.register_events(el);\n",
       "    }\n",
       "    else {\n",
       "        // location in version 2\n",
       "        IPython.keyboard_manager.register_events(el);\n",
       "    }\n",
       "\n",
       "}\n",
       "\n",
       "mpl.figure.prototype._key_event_extra = function(event, name) {\n",
       "    var manager = IPython.notebook.keyboard_manager;\n",
       "    if (!manager)\n",
       "        manager = IPython.keyboard_manager;\n",
       "\n",
       "    // Check for shift+enter\n",
       "    if (event.shiftKey && event.which == 13) {\n",
       "        this.canvas_div.blur();\n",
       "        // select the cell after this one\n",
       "        var index = IPython.notebook.find_cell_index(this.cell_info[0]);\n",
       "        IPython.notebook.select(index + 1);\n",
       "    }\n",
       "}\n",
       "\n",
       "mpl.figure.prototype.handle_save = function(fig, msg) {\n",
       "    fig.ondownload(fig, null);\n",
       "}\n",
       "\n",
       "\n",
       "mpl.find_output_cell = function(html_output) {\n",
       "    // Return the cell and output element which can be found *uniquely* in the notebook.\n",
       "    // Note - this is a bit hacky, but it is done because the \"notebook_saving.Notebook\"\n",
       "    // IPython event is triggered only after the cells have been serialised, which for\n",
       "    // our purposes (turning an active figure into a static one), is too late.\n",
       "    var cells = IPython.notebook.get_cells();\n",
       "    var ncells = cells.length;\n",
       "    for (var i=0; i<ncells; i++) {\n",
       "        var cell = cells[i];\n",
       "        if (cell.cell_type === 'code'){\n",
       "            for (var j=0; j<cell.output_area.outputs.length; j++) {\n",
       "                var data = cell.output_area.outputs[j];\n",
       "                if (data.data) {\n",
       "                    // IPython >= 3 moved mimebundle to data attribute of output\n",
       "                    data = data.data;\n",
       "                }\n",
       "                if (data['text/html'] == html_output) {\n",
       "                    return [cell, data, j];\n",
       "                }\n",
       "            }\n",
       "        }\n",
       "    }\n",
       "}\n",
       "\n",
       "// Register the function which deals with the matplotlib target/channel.\n",
       "// The kernel may be null if the page has been refreshed.\n",
       "if (IPython.notebook.kernel != null) {\n",
       "    IPython.notebook.kernel.comm_manager.register_target('matplotlib', mpl.mpl_figure_comm);\n",
       "}\n"
      ],
      "text/plain": [
       "<IPython.core.display.Javascript object>"
      ]
     },
     "metadata": {},
     "output_type": "display_data"
    },
    {
     "data": {
      "text/html": [
       "<img src=\"data:image/png;base64,iVBORw0KGgoAAAANSUhEUgAAAyAAAAJYCAYAAACadoJwAAAgAElEQVR4Xu3dC5BsCV3n+Z8soIwgOAgC6oiyCO0qYgMqD0XB4TGLr8AHYqNguCouywq64vgYcNcHoOCGzCDKbAhu8zIEBV0dhAGEFlS4LTJiy6ILiIqoEIMKiCJs/PXUkJb1yKz//2ZV1v2ciBa76uQ/Mz8nb3V973l9WCwECBAgQIAAAQIECBDYksCHbel5PA0BAgQIECBAgAABAgQiQHwICBAgQIAAAQIECBDYmoAA2Rq1JyJAgAABAgQIECBAQID4DBAgQIAAAQIECBAgsDUBAbI1ak9EgAABAgQIECBAgIAA8RkgQIAAAQIECBAgQGBrAgJka9SeiAABAgQIECBAgAABAeIzQIAAAQIECBAgQIDA1gQEyNaoPREBAgQIECBAgAABAgLEZ4AAAQIECBAgQIAAga0JCJCtUXsiAgQIECBAgAABAgQEiM8AAQIECBAgQIAAAQJbExAgW6P2RAQIECBAgAABAgQICBCfAQIECBAgQIAAAQIEtiYgQLZG7YkIECBAgAABAgQIEBAgPgMECBAgQIAAAQIECGxNQIBsjdoTESBAgAABAgQIECAgQHwGCBAgQIAAAQIECBDYmoAA2Rq1JyJAgAABAgQIECBAQID4DBAgQIAAAQIECBAgsDUBAbI1ak9EgAABAgQIECBAgIAA8RkgQIAAAQIECBAgQGBrAgJka9SeiAABAgQIECBAgAABAeIzQIAAAQIECBAgQIDA1gQEyNaoPREBAgQIECBAgAABAgLEZ4AAAQIECBAgQIAAga0JCJCtUXsiAgQIECBAgAABAgQEiM8AAQIECBAgQIAAAQJbExAgW6P2RAQIECBAgAABAgQICBCfAQIECBAgQIAAAQIEtiYgQLZG7YkIECBAgAABAgQIEBAgPgMECBAgQIAAAQIECGxNQIBsjdoTESBAgAABAgQIECAgQHwGCBAgQIAAAQIECBDYmoAA2Rq1JyJAgAABAgQIECBAQID4DBAgQIAAAQIECBAgsDUBAbI1ak9EgAABAgQIECBAgIAA8RkgQIAAAQIECBAgQGBrAgJka9SeiAABAgQIECBAgAABAeIzQIAAAQIECBAgQIDA1gQEyNaoPREBAgQIECBAgAABAgLEZ4AAAQIECBAgQIAAga0JCJCtUXsiAgQIECBAgAABAgQEiM8AAQIECBAgQIAAAQJbExAgW6P2RAQIECBAgAABAgQICBCfAQIECBAgQIAAAQIEtiYgQLZG7YkIECBAgAABAgQIEBAgPgMECBAgQIAAAQIECGxNQIBsjdoTESBAgAABAgQIECAgQHwGCBAgQIAAAQIECBDYmoAA2Rq1JyJAgAABAgQIECBAQID4DBAgQIAAAQIECBAgsDUBAbI1ak9EgAABAgQIECBAgIAA8RkgQIAAAQIECBAgQGBrAgJka9SeiAABAgQIECBAgAABAeIzQIAAAQIECBAgQIDA1gQEyNaoPREBAgQIECBAgAABAgLEZ4AAAQIECBAgQIAAga0JCJCtUXsiAgQIECBAgAABAgQEiM8AAQIECBAgQIAAAQJbExAgW6P2RAQIECBAgAABAgQICBCfAQIECBAgQIAAAQIEtiYgQLZG7YkIECBAgAABAgQIEBAgPgMECBAgQIAAAQIECGxNQIBsjdoTESBAgAABAgQIECAgQHwGCBAgQIAAAQIECBDYmoAA2Rq1JyJAgAABAgQIECBAQID4DBAgQIAAAQIECBAgsDUBAbI1ak9EgAABAgQIECBAgIAA8RkgQIAAAQIECBAgQGBrAgJka9RrPdGNk9w7yZuT/M1aj7ASAQIECBAgQIDANgU+Isktk7wwyTu2+cTn5bkEyNnakg9M8oyz9ZK8GgIECBAgQIAAgQMEvibJM8lsLiBANje7mI+4S5Jfu/LKK3PZZZddzOcxmwABAgQIECBA4AQC11xzTa644op65F2TvPIEIy75hwiQs/URuDzJhQsXLuTyy+v/tRAgQIAAAQIECJwlgauvvjp3uMMd6iXV/7n6LL22XXktAuRsbSkBcra2h1dDgAABAgQIEPgnAgKk/4EQIH3DyQkCZFLTLAIECBAgQIDAsIAA6YMKkL7h5AQBMqlpFgECBAgQIEBgWECA9EEFSN9wcoIAmdQ0iwABAgQIECAwLCBA+qACpG84OUGATGqaRYAAAQIECBAYFhAgfVAB0jecnCBAJjXNIkCAAAECBAgMCwiQPqgA6RtOThAgk5pmESBAgAABAgSGBQRIH1SA9A0nJwiQSU2zCBAgQIAAAQLDAgKkDypA+oaTEwTIpKZZBAgQIECAAIFhAQHSBxUgfcPJCQJkUtMsAgQIECBAgMCwgADpgwqQvuHkBAEyqWkWAQIECBAgQGBYQID0QQVI33ByggCZ1DSLAAECBAgQIDAsIED6oLsQIHdMckWSeyT5pCTvTvL6JD+U5MVrENwryZcnuUOST09ynWXOmw957KcleXySuy3fvyrJdyT5nQPW32TdNV5qBMg6StYhQIAAAQIECJySgADpw+9CgPxskrsneW6Sq5NcP8lDktQv/9+S5MePYXhakq9O8l+SfPjyuAqZgwLk1kleneSdSZ60zH14khsl+awkb1x5rk3WXXdLCZB1paxHgAABAgQIEDgFAQHSR9+FALlrktcked/K271ektcmuUmSmyZ5/xEUH5fkL5bHf3+S7z5iD0jFzn2SXJbkrcvMT0hyTZJfTvIVK8+zybrrbikBsq6U9QgQIECAAAECpyAgQProuxAgh73LJyR5ZJIKhD9ak+KoAKk9K+9I8uwkX7dv3tOTfFWSGy+HgG2y7pov7R9WEyCbaFmXAAECBAgQILBlAQHSB9/lAHnWcm7HRyf56zUpjgqQOyd5ZZKHJnnKvnn1tScnqXV+ffnfdddd86UJkE2grEuAAAECBAgQOA0BAdJX39UAqUOk6hCsX0xy/w0YjgqQmlOHVX1xkl/YN7O+9vwleOpclE3WPezl3TxJ/bO63DbJMy5cuJDLL6+dIRYCBAgQIECAAIGzJCBA+ltjFwPkhkleleQWST4jyVs2YDgqQB6U5KeT3DvJr+ybWVfSemGSWufK5X/XXfewl/eYJI8+6JsCZIMtalUCBAgQIECAwBYFBEgfe9cCpE4+rxCoK1LdN8lLNySwB2RDMKsTIECAAAECBAh8SECA9D8NuxQg103ygiT3XA6FqkOiNl2cA7KpmPUJECBAgAABAgT+m4AA6X8YdiVArr2cn/FFSb62zpM44VvvXAXrActVsOqE9+OugrW67iYv1VWwNtGyLgECBAgQIEBgywICpA++CwFyrSTPXC6D+81JfuKQt113OL9Vkncledsh6xx3H5A6wbzOAamTwfcu7bt3H5A69Gv1hPdN1l13SwmQdaWsR4AAAQIECBA4BQEB0kffhQB5YpJHJHl5kqce8JZflOTtSW6Z5E1J6p4dD15Z73bLla3qS1+43FW97iHyX5d//v3KurdJ8pvL/UB+bPl63Qm97v9R55284YTrrrulBMi6UtYjQIAAAQIECJyCgADpo+9CgLxsiYbD3u0XJKl1DguQipGfOuTBdQWtetzqUsHyuCR3W754VZJHJXndATM2WXedrSVA1lGyDgECBAgQIEDglAQESB9+FwKk/y53Z4IA2Z1t5ZUSIECAAAECl6CAAOlvdAHSN5ycIEAmNc0iQIAAAQIECAwLCJA+qADpG05OECCTmmYRIECAAAECBIYFBEgfVID0DScnCJBJTbMIECBAgAABAsMCAqQPKkD6hpMTBMikplkECBAgQIAAgWEBAdIHFSB9w8kJAmRS0ywCBAgQIECAwLCAAOmDCpC+4eQEATKpaRYBAgQIECBAYFhAgPRBBUjfcHKCAJnUNIsAAQIECBAgMCwgQPqgAqRvODlBgExqmkWAAAECBAgQGBYQIH1QAdI3nJwgQCY1zSJAgAABAgQIDAsIkD6oAOkbTk4QIJOaZhEgQIAAAQIEhgUESB9UgPQNJycIkElNswgQIECAAAECwwICpA8qQPqGkxMEyKSmWQQIECBAgACBYQEB0gcVIH3DyQkCZFLTLAIECBAgQIDAsIAA6YMKkL7h5AQBMqlpFgECBAgQIEBgWECA9EEFSN9wcoIAmdQ0iwABAgQIECAwLCBA+qACpG84OUGATGqaRYAAAQIECBAYFhAgfVAB0jecnCBAJjXNIkCAAAECBAgMCwiQPqgA6RtOThAgk5pmESBAgAABAgSGBQRIH1SA9A0nJwiQSU2zCBAgQIAAAQLDAgKkDypA+oaTEwTIpKZZBAgQIECAAIFhAQHSBxUgfcPJCQJkUtMsAgQIECBAgMCwgADpgwqQvuHkBAEyqWkWAQIECBAgQGBYQID0QQVI33ByggCZ1DSLAAECBAgQIDAsIED6oAKkbzg5QYBMappFgAABAgQIEBgWECB9UAHSN5ycIEAmNc0iQIAAAQIECAwLCJA+qADpG05OECCTmmYRIECAAAECBIYFBEgfVID0DScnCJBJTbMIECBAgAABAsMCAqQPKkD6hpMTBMikplkECBAgQIAAgWEBAdIHFSB9w8kJAmRS0ywCBAgQIECAwLCAAOmDCpC+4eQEATKpaRYBAgQIECBAYFhAgPRBBUjfcHKCAJnUNIsAAQIECBAgMCwgQPqgAqRvODlBgExqmkWAAAECBAgQGBYQIH1QAdI3nJwgQCY1zSJAgAABAgQIDAsIkD6oAOkbTk4QIJOaZhEgQIAAAQIEhgUESB9UgPQNJycIkElNswgQIECAAAECwwICpA8qQPqGkxMEyKSmWQQIECBAgACBYQEB0gcVIH3DyQkCZFLTLAIECBAgQIDAsIAA6YMKkL7h5AQBMqlpFgECBAgQIEBgWECA9EEFSN9wcoIAmdQ0iwABAgQIECAwLCBA+qC7ECB3THJFknsk+aQk707y+iQ/lOTFaxJ8WpLHJ7nbsv5VSb4jye+sPP6WSd50xLz3J7nOyvefluTrDln/E5L80ZqvbXU1AXICNA8hQIAAAQIECGxLQID0pXchQH42yd2TPDfJ1Umun+QhSSoqviXJjx/DcOskr07yziRPWtZ9eJIbJfmsJG9cvvaRSb7sgFkVEz+Y5BeSfPEBAVIR8oF9j3tekvecYPMIkBOgeQgBAgQIECBAYFsCAqQvvQsBctckr0nyvpW3e70kr01ykyQ3TVJ7Jw5bKmDuk+SyJG9dVqqouCbJLyf5imMYvyfJ/5Hk/kkqLPaWvT0gtVfkqOffZCsJkE20rEuAAAECBAgQ2LKAAOmD70KAHPYun5DkkUmOOtyp9pa8I8mzDzhc6ulJvirJjZfDug57nv83yb9Mcoskf3tAgFw3SQXRXx+wJ2TTLSRANhWzPgECBAgQIEBgiwICpI+9ywHyrCRfnuSjl1/+D9K4c5JXJnlokqfsW6G+9uQktc6vH0J5lyS/luTfJ/lf9q2ztwfkr5LcIMl7lz0qdW7JH5xw0wiQE8J5GAECBAgQIEBgGwICpK+8qwFSh1PVIVi/uBwadZhEHTZVh2DVuRt1DsfqUl97/hIxdX7JQctPJPnGJHdaDgNbXeexSa6d5MKyZ6Ri5WFJ/jJJnTj/lmM2z82T1D+ry22TPOPChQu5/PJqEQsBAgQIECBAgMBZEhAg/a2xiwFywySvWg6J+oxjftF/UJKfTnLvJL+yj+teSV6YpNa58gDKj0jytiR/vJzwvo52nWtS55XU4V0PPuYBj0ny6IPWESDrUFuHAAECBAgQILB9AQHSN9+1AKlzLSoa6upV903y0mMIOntAvjLJc5bL9f7wBtS1R6T2bNQ5I0ct9oBsgGpVAgQIECBAgMBZEBAg/a2wSwFSJ3u/IMk9l8Om6vCp45bOOSD/z7LnpE5yrz0h6y51paz7JanXu+niHJBNxaxPgAABAgQIENiigADpY+9KgNS5FnUuxxcl+do6T2LNt37cVbAesFwFq65gtbrcbLmRYB229W/WfK691V63nBhf4bLpIkA2FbM+AQIECBAgQGCLAgKkj70LAXKtJM9cLpn7zUnqxPCDlrofx62SvGvfHos6wbzOAakTvPfuTr53H5A6nKsO09q/fFuSH1me82cO+H7dtLCWuiv76lKX9a1L/tZrrNe66SJANhWzPgECBAgQIEBgiwICpI+9CwHyxCSPSPLyJE894C2/KMnbk9wyyZsOOAH8Nkl+c7kfyI8tj687odf9P+pckjccMLP2YlSk1J6Q1Rsg7q16+yQvWc4RqcfX/UHqcK+vSfKHST57eU2bbiEBsqmY9QkQIECAAAECWxQQIH3sXQiQlyW5+xFv9QuS1DqHBUg99HZJHpfkbsucq5I8KkmFxv7lM5Ncvdw3pO4VctBSYVI3QqzL89bJ5rX3pe6yXpf6/YEkf3HCTSNATgjnYQQIECBAgACBbQgIkL7yLgRI/13uzgQBsjvbyislQIAAAQIELkEBAdLf6AKkbzg5QYBMappFgAABAgQIEBgWECB9UAHSN5ycIEAmNc0iQIAAAQIECAwLCJA+qADpG05OECCTmmYRIECAAAECBIYFBEgfVID0DScnCJBJTbMIECBAgAABAsMCAqQPKkD6hpMTBMikplkECBAgQIAAgWEBAdIHFSB9w8kJAmRS0ywCBAgQIECAwLCAAOmDCpC+4eQEATKpaRYBAgQIECBAYFhAgPRBBUjfcHKCAJnUNIsAAQIECBAgMCwgQPqgAqRvODlBgExqmkWAAAECBAgQGBYQIH1QAdI3nJwgQCY1zSJAgAABAgQIDAsIkD6oAOkbTk4QIJOaZhEgQIAAAQIEhgUESB9UgPQNJycIkElNswgQIECAAAECwwICpA8qQPqGkxMEyKSmWQQIECBAgACBYQEB0gcVIH3DyQkCZFLTLAIECBAgQIDAsIAA6YMKkL7h5AQBMqlpFgECBAgQIEBgWECA9EEFSN9wcoIAmdQ0iwABAgQIECAwLCBA+qACpG84OUGATGqaRYAAAQIECBAYFhAgfVAB0jecnCBAJjXNIkCAAAECBAgMCwiQPqgA6RtOThAgk5pmESBAgAABAgSGBQRIH1SA9A0nJwiQSU2zCBAgQIAAAQLDAgKkDypA+oaTEwTIpKZZBAgQIECAAIFhAQHSBxUgfcPJCQJkUtMsAgQIECBAgMCwgADpgwqQvuHkBAEyqWkWAQIECBAgQGBYQID0QQVI33ByggCZ1DSLAAECBAgQIDAsIED6oAKkbzg5QYBMappFgAABAgQIEBgWECB9UAHSN5ycIEAmNc0iQIAAAQIECAwLCJA+qADpG05OECCTmmYRIECAAAECBIYFBEgfVID0DScnCJBJTbMIECBAgAABAsMCAqQPKkD6hpMTBMikplkECBAgQIAAgWEBAdIHFSB9w8kJAmRS0ywCBAgQIECAwLCAAOmDCpC+4eQEATKpaRYBAgQIECBAYFhAgPRBBUjfcHKCAJnUNIsAAQIECBAgMCwgQPqgAqRvODlBgExqmkWAAAECBAgQGBYQIH1QAdI3nJwgQCY1zSJAgAABAgQIDAsIkD6oAOkbTk4QIJOaZhEgQIAAAQIEhgUESB9UgPQNJycIkElNswgQIECAAAECwwICpA8qQPqGkxMEyKSmWQQIECBAgACBYQEB0gcVIH3DyQkCZFLTLAIECBAgQIDAsIAA6YPuQoDcMckVSe6R5JOSvDvJ65P8UJIXr0nwaUken+Ruy/pXJfmOJL+z7/FPS/J1h8z8hCR/tO97685d82VGgKwrZT0CBAgQIECAwCkICJA++i4EyM8muXuS5ya5Osn1kzwkSf3y/y1JfvwYhlsneXWSdyZ50rLuw5PcKMlnJXnjyuP3AqQi5AP75j4vyXtWvrbJ3HW3lABZV8p6BAgQIECAAIFTEBAgffRdCJC7JnlNkvetvN3rJXltkpskuWmS9x9BUQFznySXJXnrsl7tzbgmyS8n+YoDAuQ6x8ysh2wyd90tJUDWlbIeAQIECBAgQOAUBARIH30XAuSwd/mEJI9MctChUXuPqb0l70jy7AMOrXp6kq9KcuPlsK56zN4ekOsmqcj56wP2hNR6m85dd0sJkHWlrEeAAAECBAgQOAUBAdJH3+UAeVaSL0/y0UsoHKRx5ySvTPLQJE/Zt0J97clJap1fX763FyB/leQGSd677CWp80X+YOXxm85dd0sJkHWlrEeAAAECBAgQOAUBAdJH39UAqcOp6hCsX0xy/yMY6nt1qNQXJ/mFfevV156/REydX1LLY5NcO8mFJH+b5C5JHpbkL5PUyfBvWdbbdO5BL/HmSeqf1eW2SZ5x4cKFXH55tYiFAAECBAgQIEDgLAkIkP7W2MUAuWGSVyW5RZLPWImCgzQelOSnk9w7ya/sW+FeSV6YpNa58gjKOn+kzhWpQ7YevKw3MfcxSR590PMKkP4H2wQCBAgQIECAwMUQECB91V0LkDovo6Khrl513yQvPYZgYk9FPUXtEam9FRU9tUzMtQek//k1gQABAgQIECCwVQEB0ufepQCpE8NfkOSey2FTdfjUccvUuRp1Cd77JanXUMvU3P2v3zkgx21R3ydAgAABAgQInKKAAOnj70qA1HkZdS7HFyX52jpPYs23ftzVqh6wXAWrrnZ11PK65WT3uuJWLVNzBciaG9JqBAgQIECAAIGzICBA+lthFwLkWkmeuVwy95uT/MQhb7vu3XGrJO9K8raVdeoE8zoHpE7w3ruT+d59QOpwrr2T2D9yeUzdaX11qUv11mV863nr+feWdeduspXsAdlEy7oECBAgQIAAgS0LCJA++C4EyBOTPCLJy5M89YC3/KIkb09yyyRv2neyeK1+myS/udwP5MeWx9ed0Ov+H3UuyRuWr90+yUuSPGf5Wl0Fqw61+pokf5jks5fn2XsJ687dZCsJkE20rEuAAAECBAgQ2LKAAOmD70KAvCzJ3Y94q1+QpNY5LEDqobdL8rgkd1vmXJXkUUnq0Kq95WZJ6uaGd1pONq89KnXn9Lp87w8k+YsDXsM6czfZSgJkEy3rEiBAgAABAgS2LCBA+uC7ECD9d7k7EwTI7mwrr5QAAQIECBC4BAUESH+jC5C+4eQEATKpaRYBAgQIECBAYFhAgPRBBUjfcHKCAJnUNIsAAQIECBAgMCwgQPqgAqRvODlBgExqmkWAAAECBAgQGBYQIH1QAdI3nJwgQCY1zSJAgAABAgQIDAsIkD6oAOkbTk4QIJOaZhEgQIAAAQIEhgUESB9UgPQNJycIkElNswgQIECAAAECwwICpA8qQPqGkxMEyKSmWQQIECBAgACBYQEB0gcVIH3DyQkCZFLTLAIECBAgQIDAsIAA6YMKkL7h5AQBMqlpFgECBAgQIEBgWECA9EEFSN9wcoIAmdQ0iwABAgQIECAwLCBA+qACpG84OUGATGqaRYAAAQIECBAYFhAgfVAB0jecnCBAJjXNIkCAAAECBAgMCwiQPqgA6RtOThAgk5pmESBAgAABAgSGBQRIH1SA9A0nJwiQSU2zCBAgQIAAAQLDAgKkDypA+oaTEwTIpKZZBAgQIECAAIFhAQHSBxUgfcPJCQJkUtMsAgQIECBAgMCwgADpgwqQvuHkBAEyqWkWAQIECBAgQGBYQID0QQVI33ByggCZ1DSLAAECBAgQIDAsIED6oAKkbzg5QYBMappFgAABAgQIEBgWECB9UAHSN5ycIEAmNc0iQIAAAQIECAwLCJA+qADpG05OECCTmmYRIECAAAECBIYFBEgfVID0DScnCJBJTbMIECBAgAABAsMCAqQPKkD6hpMTBMikplkECBAgQIAAgWEBAdIHFSB9w8kJAmRS0ywCBAgQIECAwLCAAOmDCpC+4eQEATKpaRYBAgQIECBAYFhAgPRBBUjfcHKCAJnUNIsAAQIECBAgMCwgQPqgAqRvODlBgExqmkWAAAECBAgQGBYQIH1QAdI3nJwgQCY1zSJAgAABAgQIDAsIkD6oAOkbTk4QIJOaZhEgQIAAAQIEhgUESB9UgPQNJycIkElNswgQIECAAAECwwICpA8qQPqGkxMEyKSmWQQIECBAgACBYQEB0gcVIH3DyQkCZFLTLAIECBAgQIDAsIAA6YMKkL7h5AQBMqlpFgECBAgQIEBgWECA9EEFSN9wcoIAmdQ0iwABAgQIECAwLCBA+qACpG84OUGATGqaRYAAAQIECBAYFhAgfVAB0jecnCBAJjXNIkCAAAECBAgMCwiQPqgA6RtOThAgk5pmESBAgAABAgSGBQRIH1SA9A0nJwiQSU2zCBAgQIAAAQLDAgKkDypA+oaTEwTIpKZZBAgQIECAAIFhAQHSB92FALljkiuS3CPJJyV5d5LXJ/mhJC9ek+DTkjw+yd2W9a9K8h1Jfmfl8f8iydcm+eIkt0vyL5O8OckvJvnBJP9133M9LcnXHfL8n5Dkj9Z8baurCZAToHkIAQIECBAgQGBbAgKkL70LAfKzSe6e5LlJrk5y/SQPSVJR8S1JfvwYhlsneXWSdyZ50rLuw5PcKMlnJXnj8rWa97okr0jywiR/luQOSb5hCZH6//9y5bn2AqQi5AP7XsPzkrznBJtHgJwAzUMIECBAgAABAtsSECB96V0IkLsmeU2S96283esleW2SmyS5aZL3H0FRAXOfJJcleeuyXu2huCbJLyf5iuVrH5PkFkuErI77+iT/V5JvS/LEAwLkOsc8/yZbSYBsomVdAgQIECBAgMCWBQRIH3wXAuSwd/mEJI9MctThTrW35B1Jnn3A4VJPT/JVSW68HNZ12PPcYNnzURFSe0P2lr09INdNUkH01wfsCdl0CwmQTcWsT4AAAQIECBDYooAA6WPvcoA8K8mXJ/no5Zf/gzTunOSVSR6a5Cn7VqivPTlJrfPrR1DeJsnvJXlskn97QID8VZKKlPcue1Tq3JI/OOGmESAnhKHfjaEAACAASURBVPMwAgQIECBAgMA2BARIX3lXA6QOp6pDsOoE8fsfwVDfq0Ow6sTyX9i3Xn3t+UvE1Pklhy0/vZwE/5lJfntlpQqSaye5kORvk9wlycOWvSV14vxbjtk8N09S/6wut03yjAsXLuTyy6tFLAQIECBAgAABAmdJQID0t8YuBsgNk7xqOV/jM475Rf9BSSog7p3kV/Zx3Ws52bzWufIQym9M8hNJ/s8kj1iDu841qfNK6vCuBx+z/mOSPPqgdQTIGtJWIUCAAAECBAicgoAA6aPvWoDUuRZ1haq6etV9k7z0GILOHpAvXfae/Kck9f8fdaL76suoPSK1Z6NOaD9qsQek//k1gQABAgQIECCwVQEB0ufepQCpk71fkOSey2FTdfjUcctJzwGpvSP1XL+xXEGrzu9Yd6lL8N4vSb3eTRfngGwqZn0CBAgQIECAwBYFBEgfe1cCpM61qHM5vmi5WeAz1nzrx10F6wHLVbDqClZ7S91zpA6jqpsdVuys3vtjnaete4nUifF1da5NFwGyqZj1CRAgQIAAAQJbFBAgfexdCJBrJXnmcsncb17OyTjondf9OG6V5F1J3rayQp1gXueA1Anee3cn37sPSB3OtXoS+2cvd1evO6BXiNTNCw9aPnL5Yt2VfXWpy/rWJX/rvJF6rZsuAmRTMesTIECAAAECBLYoIED62LsQIHXzvzoB/OVJnnrAW35RkrcnuWWSNx1wAnhdRvc3l/uB/Njy+LoTet3/o84lecPytU9M8lvLJXXrcrt/uu+56jnquWq5fZKXJHnO8vi6ClYd7vU1Sf4wSYVMrb/pIkA2FbM+AQIECBAgQGCLAgKkj70LAfKyZW/EYe/2C5LUOocFSD3udkkel+Ruy5Crkjxq313PP/+Yk9p/NUmtU8vNktSNEO+0nGxee1/qLut1qd8fSPIXJ9w0AuSEcB5GgAABAgQIENiGgADpK+9CgPTf5e5MECC7s628UgIECBAgQOASFBAg/Y0uQPqGkxMEyKSmWQQIECBAgACBYQEB0gcVIH3DyQkCZFLTLAIECBAgQIDAsIAA6YMKkL7h5AQBMqlpFgECBAgQIEBgWECA9EEFSN9wcoIAmdQ0iwABAgQIECAwLCBA+qACpG84OUGATGqaRYAAAQIECBAYFhAgfVAB0jecnCBAJjXNIkCAAAECBAgMCwiQPqgA6RtOThAgk5pmESBAgAABAgSGBQRIH1SA9A0nJwiQSU2zCBAgQIAAAQLDAgKkDypA+oaTEwTIpKZZBAgQIECAAIFhAQHSBxUgfcPJCQJkUtMsAgQIECBAgMCwgADpgwqQvuHkBAEyqWkWAQIECBAgQGBYQID0QQVI33ByggCZ1DSLAAECBAgQIDAsIED6oAKkbzg5QYBMappFgAABAgQIEBgWECB9UAHSN5ycIEAmNc0iQIAAAQIECAwLCJA+qADpG05OECCTmmYRIECAAAECBIYFBEgfVID0DScnCJBJTbMIECBAgAABAsMCAqQPKkD6hpMTBMikplkECBAgQIAAgWEBAdIHFSB9w8kJAmRS0ywCBAgQIECAwLCAAOmDCpC+4eQEATKpaRYBAgQIECBAYFhAgPRBBUjfcHKCAJnUNIsAAQIECBAgMCwgQPqgAqRvODlBgExqmkWAAAECBAgQGBYQIH1QAdI3nJwgQCY1zSJAgAABAgQIDAsIkD6oAOkbTk4QIJOaZhEgQIAAAQIEhgUESB9UgPQNJycIkElNswgQIECAAAECwwICpA8qQPqGkxMEyKSmWQQIECBAgACBYQEB0gcVIH3DyQkCZFLTLAIECBAgQIDAsIAA6YMKkL7h5AQBMqlpFgECBAgQIEBgWECA9EEFSN9wcoIAmdQ0iwABAgQIECAwLCBA+qACpG84OUGATGqaRYAAAQIECBAYFhAgfVAB0jecnCBAJjXNIkCAAAECBAgMCwiQPqgA6RtOThAgk5pmESBAgAABAgSGBQRIH1SA9A0nJwiQSU2zCBAgQIAAAQLDAgKkDypA+oaTEwTIpKZZBAgQIECAAIFhAQHSBxUgfcPJCQJkUtMsAgQIECBAgMCwgADpgwqQvuHkBAEyqWkWAQIECBAgQGBYQID0QQVI33ByggCZ1DSLAAECBAgQIDAsIED6oAKkbzg5QYBMappFgAABAgQIEBgWECB9UAHSN5ycIEAmNc0iQIAAAQIECAwLCJA+6C4EyB2TXJHkHkk+Kcm7k7w+yQ8lefGaBJ+W5PFJ7rasf1WS70jyOwc8/mKtu85LFSDrKFmHAAECBAgQIHBKAgKkD78LAfKzSe6e5LlJrk5y/SQPSVKh8C1JfvwYhlsneXWSdyZ50rLuw5PcKMlnJXnjyuMv1rrrbikBsq6U9QgQIECAAAECpyAgQProuxAgd03ymiTvW3m710vy2iQ3SXLTJO8/gqIC5j5JLkvy1mW9T0hyTZJfTvIVK4+9WOuuu6UEyLpS1iNAgAABAgQInIKAAOmj70KAHPYun5DkkUkqJv7okJVqb8k7kjw7ydftW+fpSb4qyY2Xw7ou1rqbbCUBsomWdQkQONMCL77qh/KTb3xO/r+8P5+ca+cbb/1V+cK7/dsz/Zq9OAIECBwnIECOEzr++7scIM9K8uVJPjrJXx/yVu+c5JVJHprkKfvWqa89OUmt8+vL/16MdY/fCh9aQ4BsomVdAgTOrEDFxyP+4JnJBz+YfNiH/bf//dFbPVCEnNmt5oURILCOgABZR+nodXY1QOpwqjoE6xeT3P+It1jfq8OqvjjJL+xbr772/CVi6vySi7XuYS/v5knqn9XltkmeceHChVx+ebWIhQABArsp8JU/dftc82Hv/8f42Fs++MFc9sFr52ceUj++LQQIENhNAQHS3267GCA3TPKqJLdI8hlJ3nIEw4OS/HSSeyf5lX3r3SvJC5PUOlcu/3sx1j3s5T0myaMP+qYA6X+wTSBA4HQF7vhTn5b3Xeuf/yfmIz7wwbz6IQddgPB0X69nJ0CAwLoCAmRdqcPX27UAqZPPKxrq6lX3TfLSYwgu1l6NTeYe9hLtAel/fk0gQOCMCtgDckY3jJdFgEBbQIC0CbNLAXLdJC9Ics/lsKk6fOq4xTkgxwn5PgECBC6CgHNALgKqkQQInAkBAdLfDLsSINdezuX4oiRfW+dJrPnWj7uy1QOWq2DVSewXa901X+o/rOYk9E20rEuAwJkW2LsK1pvy/nySq2Cd6W3lxREgsL6AAFnf6rA1dyFArpXkmcslc785yU8c8mauk+RWSd6V5G0r69QJ5nUOSJ3gvXe53r37gNThXKsnsV+sddfdUgJkXSnrESBAgAABAgROQUCA9NF3IUCemOQRSV6e5KkHvOUXJXl7klsmeVOSur/Hg1fWu02S31zuB/Jjy9frTuh1/486l+QNW1h33S0lQNaVsh4BAgQIECBA4BQEBEgffRcC5GVJ7n7EW/2CJLXOYQFSD71dkscludsy56okj0ryugPmXqx119laAmQdJesQIECAAAECBE5JQID04XchQPrvcncmCJDd2VZeKQECBAgQIHAJCgiQ/kYXIH3DyQkCZFLTLAIECBAgQIDAsIAA6YMKkL7h5AQBMqlpFgECBAgQIEBgWECA9EEFSN9wcoIAmdQ0iwABAgQIECAwLCBA+qACpG84OUGATGqaRYAAAQIECBAYFhAgfVAB0jecnCBAJjXNIkCAAAECBAgMCwiQPqgA6RtOThAgk5pmESBAgAABAgSGBQRIH1SA9A0nJwiQSU2zCBAgQIAAAQLDAgKkDypA+oaTEwTIpKZZBAgQIECAAIFhAQHSBxUgfcPJCQJkUtMsAgQIECBAgMCwgADpgwqQvuHkBAEyqWkWAQIECBAgQGBYQID0QQVI33ByggCZ1DSLAAECBAgQIDAsIED6oAKkbzg5QYBMappFgAABAgQIEBgWECB9UAHSN5ycIEAmNc0iQIAAAQIECAwLCJA+qADpG05OECCTmmYRIECAAAECBIYFBEgfVID0DScnCJBJTbMIECBAgAABAsMCAqQPKkD6hpMTBMikplkECBAgQIAAgWEBAdIHFSB9w8kJAmRS0ywCBAgQIECAwLCAAOmDCpC+4eQEATKpaRYBAgQIECBAYFhAgPRBBUjfcHKCAJnUNIsAAQIECBAgMCwgQPqgAqRvODlBgExqmkWAAAECBAgQGBYQIH1QAdI3nJwgQCY1zSJAgAABAgQIDAsIkD6oAOkbTk4QIJOaZhEgQIAAAQIEhgUESB9UgPQNJycIkElNswgQIECAAAECwwICpA8qQPqGkxMEyKSmWQQIECBAgACBYQEB0gcVIH3DyQkCZFLTLAIECBAgQIDAsIAA6YMKkL7h5AQBMqlpFgECBAgQIEBgWECA9EEFSN9wcoIAmdQ0iwABAgQIECAwLCBA+qACpG84OUGATGqaRYAAAQIECBAYFhAgfVAB0jecnCBAJjXNIkCAAAECBAgMCwiQPqgA6RtOThAgk5pmESBAgAABAgSGBQRIH1SA9A0nJwiQSU2zCBAgQIAAAQLDAgKkDypA+oaTEwTIpKZZBAgQIECAAIFhAQHSBxUgfcPJCQJkUtMsAgQIECBAgMCwgADpgwqQvuHkBAEyqWkWAQIECBAgQGBYQID0QQVI33ByggCZ1DSLAAECBAgQIDAsIED6oAKkbzg5QYBMappFgAABAgQIEBgWECB9UAHSN5ycIEAmNc0iQIAAAQIECAwLCJA+qADpG05OECCTmmYRIECAAAECBIYFBEgfVID0DScnCJBJTbMIECBAgAABAsMCAqQPugsBcv0k357kDknumORmSZ6e5MEbvP1a9+FJLkvy3iQvTfKdSd64b8YHj5n58Un+eFnnMUkefcj6n5vkqg1e396qAuQEaB5CgAABAgQIENiWgADpS+9CgNwyyZuSvC3JhST32zBA9kKhouN5SW6Y5GFJrp3kTknevMJ4xQGk/yLJU5L8TpLbrXx/b27F0dv3Pe6FSf78BJtHgJwAzUMIECBAgAABAtsSECB96V0IkA9P8jHLnoeKhr/bIEA+Nslblz0e90myt4ejouZ3k/x8kgcew1hR8n8n+bYkTzwgQG6d5Pf7m+IfJgiQIUhjCBAgQIAAAQIXQ0CA9FV3IUBW3+WmAfJly16PByW58oC9FJ+X5MZJ3nME5YuSfH6SOvxqdU/H3h6QCpA/S/LuJH/f3CQCpAno4QQIECBAgACBiykgQPq65z1AHpDkWUnuv4TIqlgdjlWB8jlJfuMQyoqOtyT5pSRftG+dvQD5qyQ3WPbMvGw5t+TqE24aAXJCOA8jQIAAAQIECGxDQID0lc97gNw+yW8ledJyEvqe2PWWw6ZucUic7K33b5P8YJKvSPKz+7i/NcltkrwySUXIZyZ5xHJuSe1Zec0xm+fmSeqf1eW2SZ5x4cKFXH55tYiFAAECBAgQIEDgLAkIkP7WOO8BUkK/muTOSb4ryc8tJ6F/X5J7J7lOkoMOz9qTvSbJTZdQ+Ns1uD99CY9XLYdtHfWQQ6+iJUDWkLYKAQIECBAgQOAUBARIH/1SCJAKiLpsb52EvrdUILwkyXcn+dIkzz+A8rOWQ7OenOR/3oD6uUm+ZDksqy75e9hiD8gGqFYlQIAAAQIECJwFAQHS3wqXQoDsKdX5HJ+8nDD+e0kem+RRy71B6t/3L/8hybckqRB59QbUdaWsOhTr45L8yQaPq1WdA7IhmNUJECBAgAABAtsUECB97UspQPZrvXY5HKuiZP8NCK+73HfkT5P8DxsyvyDJfZc9IH+z4WMFyIZgVidAgAABAgQIbFNAgPS1z1OA1Pkct0ryriUejtL5hiRPTfLQ5SaD+9etq2bVSee1h+TxBwyqywF/VJJ37vveXZK8PMmL9x3yte6WEiDrSlmPAAECBAgQIHAKAgKkj74rAVJ3Lr9RkmslqRPI68pWdRndWmqPw+uS7N0xvc73ePAKzY8kuclyF/XaI3GPJF+Z5DnLTQj37/3Ym/lvkvyrQw6jqtfyx0l+Jsnrl6tg1RW3vn65H8hdk9QJ7JsuAmRTMesTIECAAAECBLYoIED62LsSIG9O8omHvN2HJHnaEQFSdzp/ZJJPWS6RW2FQez9+MskHDphZsVLnbtRejDqU6qCl7s5eJ6fXPUTq3JK6rO/bktRNC78/Sb3ekywC5CRqHkOAAAECBAgQ2JKAAOlD70qA9N/pbkwQILuxnbxKAgQIECBA4BIVECD9DS9A+oaTEwTIpKZZBAgQIECAAIFhAQHSBxUgfcPJCQJkUtMsAgQIECBAgMCwgADpgwqQvuHkBAEyqWkWAQIECBAgQGBYQID0QQVI33ByggCZ1DSLAAECBAgQIDAsIED6oAKkbzg5QYBMappFgAABAgQIEBgWECB9UAHSN5ycIEAmNc0iQIAAAQIECAwLCJA+qADpG05OECCTmmYRIECAAAECBIYFBEgfVID0DScnCJBJTbMIECBAgAABAsMCAqQPKkD6hpMTBMikplkECBAgQIAAgWEBAdIHFSB9w8kJAmRS0ywCBAgQIECAwLCAAOmDCpC+4eQEATKpaRYBAgQIECBAYFhAgPRBBUjfcHKCAJnUNIsAAQIECBAgMCwgQPqgAqRvODlBgExqmkWAAAECBAgQGBYQIH1QAdI3nJwgQCY1zSJAgAABAgQIDAsIkD6oAOkbTk4QIJOaZhEgQIAAAQIEhgUESB9UgPQNJycIkElNswgQIECAAAECwwICpA8qQPqGkxMEyKSmWQQIECBAgACBYQEB0gcVIH3DyQkCZFLTLAIECBAgQIDAsIAA6YMKkL7h5AQBMqlpFgECBAgQIEBgWECA9EEFSN9wcoIAmdQ0iwABAgQIECAwLCBA+qACpG84OUGATGqaRYAAAQIECBAYFhAgfVAB0jecnCBAJjXNIkCAAAECBAgMCwiQPqgA6RtOThAgk5pmESBAgAABAgSGBQRIH1SA9A0nJwiQSU2zCBAgQIAAAQLDAgKkDypA+oaTEwTIpKZZBAgQIECAAIFhAQHSBxUgfcPJCQJkUtMsAgQIECBAgMCwgADpgwqQvuHkBAEyqWkWAQIECBAgQGBYQID0QQVI33ByggCZ1DSLAAECBAgQIDAsIED6oAKkbzg5QYBMappFgAABAgQIEBgWECB9UAHSN5ycIEAmNc0iQIAAAQIECAwLCJA+qADpG05OECCTmmYRIECAAAECBIYFBEgfVID0DScnCJBJTbMIECBAgAABAsMCAqQPKkD6hpMTBMikplkECBAgQIAAgWEBAdIHFSB9w8kJAmRS0ywCBAgQIECAwLCAAOmDCpC+4eQEATKpaRYBAgQIECBAYFhAgPRBBUjfcHKCAJnUNIsAAQIECBAgMCwgQPqgAqRvODlBgExqmkWAAAECBAgQGBYQIH1QAdI3nJwgQCY1zSJAgAABAgQIDAsIkD7oLgTI9ZN8e5I7JLljkpsleXqSB2/w9mvdhye5LMl7k7w0yXcmeeO+GY9J8uhD5n5ukqv2fe9fJXl8knsl+fAkF5J8d5JXbPDaVlcVICeE8zACBAgQIECAwDYEBEhfeRcC5JZJ3pTkbcsv+PfbMED2oqKi43lJbpjkYUmuneROSd68wri3bgXP2/fxvjDJn6987WOW13O9JD+a5C+TfGOS2ya5R5JfO8HmESAnQPMQAgQIECBAgMC2BARIX3oXAqT2LNQv+3+8RMPfbRAgH5vkrcsej/sk+eBCVlHzu0l+PskDDwiQWyf5/WN4fyTJI5eIqT0ftXxUktcn+dPl65tuIQGyqZj1CRAgQIAAAQJbFBAgfexdCJDVd1l7LTYJkC9b9no8KMmV+7hqj8bnJblxkvcs39vbA1IB8mdJ3p3k7w9hriCqSLn7vu9/X5J/l2SdiNk/WoD0P9MmECBAgAABAgQumoAA6dOe9wB5QJJnJbn/EiKrYnU4VgXK5yT5jX0B8ldJbrDEzsuW80WuXnnwzZP8SZLHLd9bnXvfJL+U5KuTPHvDTSRANgSzOgECBAgQIEBgmwICpK993gPk9kl+K8mTlpPQ98TqvI3ae3GLfXHyrUluk+SVSSpCPjPJI5ZDv2pvyWuWAXVCfP3/dWJ7zV5dbpfkt5cT559wxCaqiKl/Vpc6f+QZFy5cyOWXV4tYCBAgQIAAAQIEzpKAAOlvjfMeICX0q0nunOS7kvzcchJ6HSZ17yTXSXLQ4Vmrsp++xMarknz+8o26ItbLk3xTkp/ctxk+Jckbknxvku8/YhMdesUtAdL/YJtAgAABAgQIELgYAgKkr3opBMhNl5PW6yT0vaVi4iXLJXO/NMnzj6F8bpIvWQ7Lqsv42gPS/+yZQIAAAQIECBDYOQEB0t9kl0KA7Cl9fJJPXk4u/70kj03yqOXeIPXvRy1PXA7F+rjl3A/ngPQ/eyYQIECAAAECBHZOQID0N9mlFCD7tV67HI5VUbJ3ed7DRF+QpE4urxPT/2ZZ6birYNWhWPtvdHjcFnMS+nFCvk+AAAECBAgQOEUBAdLHP08BUudz3CrJu5abFh6l8w1JnprkoUmesqxYl/it+3i8c98D77Kc7/HiJKuHcdUJ5nWCet2dfe8KWRUodX+RuoRvHaa16SJANhWzPgECBAgQIEBgiwICpI+9KwFSdy6/UZJrJakTyOvKVnUZ3Vpq78TrkuzdMf3pSR68QlM3DLzJctfy2ntRdyn/yiTPWW5CuLf3o+bXXo2fWW4mWFfBqqtoff1yP5C7JrlmZW7NrPCoGyXWIVp7d0L/1CT3TPKKE2weAXICNA8hQIAAAQIECGxLQID0pXclQN6c5BMPebsPSfK0IwKk7nRedyyvQ6JqL0dFRO39qKtXfWBlZoXEk5f7gtT5InWp3rcledFyNat6DfuXek0/nORfLyFSd0T/nuXKWyfZOgLkJGoeQ4AAAQIECBDYkoAA6UPvSoD03+luTBAgu7GdvEoCBAgQIEDgEhUQIP0NL0D6hpMTBMikplkECBAgQIAAgWEBAdIHFSB9w8kJAmRS0ywCBAgQIECAwLCAAOmDCpC+4eQEATKpaRYBAgQIECBAYFhAgPRBBUjfcHKCAJnUNIsAAQIECBAgMCwgQPqgAqRvODlBgExqmkWAAAECBAgQGBYQIH1QAdI3nJwgQCY1zSJAgAABAgQIDAsIkD6oAOkbTk4QIJOaZhEgQIAAAQIEhgUESB9UgPQNJycIkElNswgQIECAAAECwwICpA8qQPqGkxMEyKSmWQQIECBAgACBYQEB0gcVIH3DyQkCZFLTLAIECBAgQIDAsIAA6YMKkL7h5AQBMqlpFgECBAgQIEBgWECA9EEFSN9wcoIAmdQ0iwABAgQIECAwLCBA+qACpG84OUGATGqaRYAAAQIECBAYFhAgfVAB0jecnCBAJjXNIkCAAAECBAgMCwiQPqgA6RtOThAgk5pmESBAgAABAgSGBQRIH1SA9A0nJwiQSU2zCBAgQIAAAQLDAgKkDypA+oaTEwTIpKZZBAgQIECAAIFhAQHSBxUgfcPJCQJkUtMsAgQIECBAgMCwgADpgwqQvuHkBAEyqWkWAQIECBAgQGBYQID0QQVI33ByggCZ1DSLAAECBAgQIDAsIED6oAKkbzg5QYBMappFgAABAgQIEBgWECB9UAHSN5ycIEAmNc0iQIAAAQIECAwLCJA+qADpG05OECCTmmYRIECAAAECBIYFBEgfVID0DScnCJBJTbMIECBAgAABAsMCAqQPKkD6hpMTBMikplkECBAgQIAAgWEBAdIHFSB9w8kJAmRS0ywCBAgQIECAwLCAAOmDCpC+4eQEATKpaRYBAgQIECBAYFhAgPRBBUjfcHKCAJnUNIsAAQIECBAgMCwgQPqgAqRvODlBgExqmkWAAAECBAgQGBYQIH1QAdI3nJwgQCY1zSJAgAABAgQIDAsIkD6oAOkbTk4QIJOaZhEgQIAAAQIEhgUESB9UgPQNJycIkElNswgQIECAAAECwwICpA8qQPqGkxMEyKSmWQQIECBAgACBYQEB0gcVIH3DyQkCZFLTLAIECBAgQIDAsIAA6YMKkL7h5AQBMqlpFgECBAgQIEBgWECA9EEFSN9wcoIAmdQ0iwABAgQIECAwLCBA+qACpG84OUGATGqaRYAAAQIECBAYFhAgfVAB0jecnCBAJjXNIkCAAAECBAgMCwiQPqgA6RtOThAgk5pmESBAgAABAgSGBQRIH3QXAuT6Sb49yR2S3DHJzZI8PcmDN3j7te7Dk1yW5L1JXprkO5O8cWXGtZJckeRLluf62CR/lOQlSb4vyZ/se77HJHn0Ia/hc5NctcHr21tVgJwAzUMIECBAgAABAtsSECB96V0IkFsmeVOStyW5kOR+GwbIXihUdDwvyQ2TPCzJtZPcKcmbF8YKnb9KcnWSX0jy1iS3TfLQJO9Z4ucPV8j35lYcvX3fpnhhkj8/weYRICdA8xACBAgQIECAwLYEBEhfehcC5MOTfEySP16i4e82CJDai1EhUfFxnyQfXMgqan43yc8neeDytesm+ewkr9jHeo8k/znJk5a9KHvf3guQWyf5/f6m+IcJAmQI0hgCBAgQIECAwMUQECB91V0IkNV3WXstNgmQL1v2ejwoyZUH7KX4vCQ3XvZwHKX5jiS/leQLV1ZaDZA/S/LuJH/f3CQCpAno4QQIECBAgACBiykgQPq65z1AHpDkWUnuv4TIqlgdjlWB8jlJfuMIyhsk+Yvl8V99QIDUYVu1ToXRy5ZzS+owrpMsAuQkah5DgAABAgQIENiSgADpQ5/3ALn9sudi/+FT11sOm7rFIXGyKvu/J/neJF+8nBuy971vTXKbJK9czh35zCSPWA4Tqz0rrzlm89w8Sf2zutQ5J8+4cOFCLr+8WsRCgAABAgQIECBwlgQESH9rnPcAKaFfTXLnlsIaqgAAGk1JREFUJN+V5OeWk9Drqlb3TnKdJAcdnrUne98kv5jkBcvekuPEP30Jj1cl+fxjVj70KloC5Dhm3ydAgAABAgQInI6AAOm7XwoBctPlpPU6CX1vqUCoy+t+d5IvTfL8Ayjr0KwXJfm9JHUieh1qtc7y3OVSvnVYVl3y97DFHpB1NK1DgAABAgQIEDhDAgKkvzEuhQDZU/r4JJ+cpE4Yr6h4bJJHLfcGqX9fXerQrQqUP01Sh1PVOSDrLk9cDsX6uAPuHXLcDOeAHCfk+wQIECBAgACBUxQQIH38SylA9mu9djkcq6Jk7/K8tc6nLodt1R6PuqFgXf53k6UO16pDt2oPyN9s8kCX4d1Qy+oECBAgQIAAgS0LCJA++HkKkDqf41ZJ3rXctPAonW9I8tTlJoNPWVnxv0/y8iQfWOKjboB40FKXA/6oJO/c9827LI9/8XLfkU23kD0gm4pZnwABAgQIECCwRQEB0sfelQCpO5ffKMm1ktQJ5HVPjrqMbi21x+F1SfbumP70JA9eofmRJDdZ7qJeeyTqfI6vTPKc5SaEe3s/ao/Ff0nyiUl+YDlMa1X4r5cbF9bX6rXUnpGfSfL65fyQOmzr65f7gdw1yTUn2DwC5ARoHkKAAAECBAgQ2JaAAOlL70qAvHkJg4Pe8UOSPO2IAKk7nT8yyacsl8itMKi9Hz+57OnYm7kXMIepvmV5jvp+3Z39ycs9ROrckrqs79uWk9a/P0m93pMsAuQkah5DgAABAgQIENiSgADpQ+9KgPTf6W5MECC7sZ28SgIECBAgQOASFRAg/Q0vQPqGkxMEyKSmWQQIECBAgACBYQEB0gcVIH3DyQkCZFLTLAIECBAgQIDAsIAA6YMKkL7h5AQBMqlpFgECBAgQIEBgWECA9EEFSN9wcoIAmdQ0iwABAgQIECAwLCBA+qACpG84OUGATGqaRYAAAQIECBAYFhAgfVAB0jecnCBAJjXNIkCAAAECBAgMCwiQPqgA6RtOThAgk5pmESBAgAABAgSGBQRIH1SA9A0nJwiQSU2zCBAgQIAAAQLDAgKkDypA+oaTEwTIpKZZBAgQIECAAIFhAQHSBxUgfcPJCQJkUtMsAgQIECBAgMCwgADpgwqQvuHkBAEyqWkWAQIECBAgQGBYQID0QQVI33ByggCZ1DSLAAECBAgQIDAsIED6oAKkbzg5QYBMappFgAABAgQIEBgWECB9UAHSN5ycIEAmNc0iQIAAAQIECAwLCJA+qADpG05OECCTmmYRIECAAAECBIYFBEgfVID0DScnCJBJTbMIECBAgAABAsMCAqQPKkD6hpMTBMikplkECBAgQIAAgWEBAdIHFSB9w8kJAmRS0ywCBAgQIECAwLCAAOmDCpC+4eQEATKpaRYBAgQIECBAYFhAgPRBBUjfcHKCAJnUNIsAAQIECBAgMCwgQPqgAqRvODlBgExqmkWAAAECBAgQGBYQIH1QAdI3nJwgQCY1zSJAgAABAgQIDAsIkD6oAOkbTk4QIJOaZhEgQIAAAQIEhgUESB9UgPQNJycIkElNswgQIECAAAECwwICpA8qQPqGkxMEyKSmWQQIECBAgACBYQEB0gcVIH3DyQkCZFLTLAIECBAgQIDAsIAA6YMKkL7h5AQBMqlpFgECBAgQIEBgWECA9EEFSN9wcoIAmdQ0iwABAgQIECAwLCBA+qACpG84OUGATGqaRYAAAQIECBAYFhAgfVAB0jecnCBAJjXNIkCAAAECBAgMCwiQPqgA6RtOThAgk5pmESBAgAABAgSGBQRIH1SA9A0nJwiQSU2zCBAgQIAAAQLDAgKkDypA+oaTEwTIpKZZBAgQIECAAIFhAQHSBxUgfcPJCQJkUtMsAgQIECBAgMCwgADpgwqQvuHkBAEyqWkWAQIECBAgQGBYQID0QQVI33ByggCZ1DSLAAECBAgQIDAsIED6oAKkbzg5QYBMappFgAABAgQIEBgWECB9UAHSN5ycIEAmNc0iQIAAAQIECAwLCJA+6C4EyPWTfHuSOyS5Y5KbJXl6kgdv8PZr3YcnuSzJe5O8NMl3JnnjATP+VZLHJ7lXkg9PciHJdyd5RXPddV6uAFlHyToECBAgQIAAgVMSECB9+F0IkFsmeVOSty0xcL8NA+QxSR69RMfzktwwycOSXDvJnZK8eYXxY5bnuF6SH03yl0m+Mcltk9wjya+dcN11t5QAWVfKegQIECBAgACBUxAQIH30XQiQ2gtRYfDHSzT83QYB8rFJ3rrEx32SfHAhq6j53SQ/n+SBK4w/kuSRS5jUno9aPirJ65P86fL1vdU3WXfdLSVA1pWyHgECBAgQIEDgFAQESB99FwJk9V3WXotNAuTLktRejwcluXIf1wuTfF6SGyd5z/K9ipzfT3L3fet+X5J/l+TWy/fr25usu+6WEiDrSlmPAAECBAgQIHAKAgKkj37eA+QBSZ6V5P5LiKyKVZhUoHxOkt9IcvMkf5Lkccv5Iavr3jfJLyX56iTP3nDdTbaSANlEy7oECBAgQIAAgS0LCJA++HkPkNsn+a0kT1pOQt8Tq3M8ak/HLVbipE5yf82yXq2/utwuyW8vJ8M/YTkhft11D9tKFTz1z+pS55o848KFC7n88moRCwECBAgQIECAwFkSECD9rXHeA6SEfjXJnZN8V5KfW05Cr0Oq7p3kOiuHZ31ukpcn+aYkP7mP9lOSvCHJ9yb5/iSbrHvYVto7Of6ffV+A9D/YJhAgQIAAAQIELoaAAOmrXgoBctPlpPU6CX1veVWSlyyX1/3SJM/fcK/GJntLDttK9oD0P78mECBAgAABAgS2KiBA+tyXQoDsKX18kk9O8mdJfi/JY5M8ark3SP27c0D6nycTCBAgQIAAAQLnWkCA9DfvpRQg+7VeuxyOVVGyd3ne465sVYdi7d28cJN1191STkJfV8p6BAgQIECAAIFTEBAgffTzFCB1PsetkrxruWnhUTrfkOSpSR6a5CkrK9YJ5o9Y7rh+9fL1Gyz3DKk9J3Xo1d6yybrrbikBsq6U9QgQIECAAAECpyAgQProuxIgdefyGyW5VpI6gbyubFWX0a3lBUlel2TvjulPT/LgFZq6YeBNljuc/81yR/OvTPKc5SaEe3s/6iG1XoVH3fzwiSt3Qv/UJPdM8oqVuZusu+6WEiDrSlmPAAECBAgQIHAKAgKkj74rAfLmJJ94yNt9SJKnHREgdafzurt5HT5VNzK8Ztn7UVe6+sABM+t5fjjJv15CpO6I/j3L1bT2r77JuutsLQGyjpJ1CBAgQIAAAQKnJCBA+vC7EiD9d7obEwTIbmwnr5IAAQIECBC4RAUESH/DC5C+4eQEATKpaRYBAgQIECBAYFhAgPRBBUjfcHKCAJnUNIsAAQIECBAgMCwgQPqgAqRvODlBgExqmkWAAAECBAgQGBYQIH1QAdI3nJwgQCY1zSJAgAABAgQIDAsIkD6oAOkbTk4QIJOaZhEgQIAAAQIEhgUESB9UgPQNJycIkElNswgQIECAAAECwwICpA8qQPqGkxMEyKSmWQQIECBAgACBYQEB0gcVIH3DyQkCZFLTLAIECBAgQIDAsIAA6YMKkL7h5AQBMqlpFgECBAgQIEBgWECA9EEFSN9wcoIAmdQ0iwABAgQIECAwLCBA+qACpG84OUGATGqaRYAAAQIECBAYFhAgfVAB0jecnCBAJjXNIkCAAAECBAgMCwiQPqgA6RtOTrhLkl+78sorc9lll03ONYsAAQIECBAgQGBA4JprrskVV1xRk+6a5JUDIy+5EQLkbG3yByZ5xtl6SV4NAQIECBAgQIDAAQJfk+SZZDYXECCbm13MR9w4yb2TvDnJ31zMJ1pm33YJnvoD9HtbeD5P8Y8C3E/nk8Cd++kInM6z+rxzPx2B03nWbX/ePyLJLZO8MMk7Tuct7/azCpDd3n7dV/8P55wkuUOSq7vDPH5tAe5rU42uyH2Uc+1h3NemGl2R+yjn2sO4r001uiL3Uc6LP0yAXHzjs/wM/sCeztbhzv10BE7nWX3euZ+OwOk8q88799MR2LFnFSA7tsGGX64flMOga47jvibU8Grch0HXHMd9Tajh1bgPg645jvuaUMOrcR8GvdjjBMjFFj7b8/2BPZ3tw5376QiczrP6vHM/HYHTeVafd+6nI7BjzypAdmyDDb/cmyf5piQ/keRtw7ONO1yA++l8OrhzPx2B03lWn3fupyNwOs/q83467id+VgFyYjoPJECAAAECBAgQIEBgUwEBsqmY9QkQIECAAAECBAgQOLGAADkxnQcSIECAAAECBAgQILCpgADZVMz6BAgQIECAAAECBAicWECAnJjOAwkQIECAAAECBAgQ2FRAgGwqZn0CBAgQIECAAAECBE4sIEBOTHfqD7xjkiuS3CPJJyV5d5LXJ/mhJC9e89U9IMn/muS2Seqz8PtJfjLJf0zygZUZT0vydYfM/IQkf7Tm852H1SbcH5zk4UkuS/LeJC9N8p1J3ngA0L9K8vgk90ry4UkuJPnuJK84D5gbvIdtuj8myaMPeW2fm+SqDV73rq9an9GyuEOSusxl/Vz4gyQ/leQpSf52jTf4actn+G7LuuX3HUl+54DHbrLuGk+9s6ts093P9w99TLru9XP6y5c/L5+e5DrLf5/ffMgn0ef9H2G26e7zfkZ+LAqQM7IhTvAyfjbJ3ZM8N8nVSa6f5CFJ6gfatyT58WNm1i+8FSsvTPKCJUDun+QLkjwhybcfECAVIathUqs8L8l7TvD6d/UhXfe9X24rOsruhkkeluTaSe6UZPU/VB+zBMf1kvxokr9M8o1LMFZ4/tquIp7gdW/TfW8b1Z+Bt+97rfXn5c9P8Pp39SH1C1U5/MbyFw3/XZK7Jvnq5efGlx7zxm6d5NVJ3pnkScu6Fd83SvJZ+6J7k3V31XPd171N971fyPx8/8e/6Ol83suy/mz8l+UvjOq/x/UXhAcFiM/7h/40bNPd533dn0IXeT0BcpGBL+L4+iXgNUnet/Ic9Yvqa5PcJMlNk7z/iOevX6z+cPkl4IPLetdaYuaWyy8Iew/f+wNbf5tz1MyL+HbPzOiO+8cmeeuyx+M+Sfbcy/t3k/x8kgeuvNMfSfLIJUxqz0ctH7Xs6frT5etnBuYiv5Btuu8FSP2CUHsFLf9c4N8n+Z+XGH7DEUAVjvVZr7/hrM9+LbXX9Jokv5zkK1Yeu8m6l+o2uRjufr4f/2la1/3jkvzF8t/l71/2Vh8WID7vp+Pu8368+1bWECBbYd7qk9Tei/ql9bhDo+rQn/+c5H77Xl39DW/tOr7Fytf3/sBeN0lFzl8fsCdkq2/yDD7ZOu5ftuz1eFCSKw9w/7wkN17Zo/THyy/Atadrdfm+JP8uiV+Q/3Fv3XGf903dVwPkz5bDG//+DH7mTvMl1d8S/3CSz1n2jhz0Wmqv7DuSPPuAQzifnuSrls97HT66ybqn+b5P+7mn3ev9+Pl+/FZdx33/lKMCxOf9ePNaY9rd5309962sJUC2wrzVJ3nWcgzqRy+hcNiT/1KSey9/wJ+/HIJVfxv5A8shQauHcO39B+qvktxgOW+h/vayjuOu48EtyTrudc5NrVeHutXhV6tL/Xv9orz3C10db/8nSR63nB+yuu59k9T2q1399cvdpbxMu5flXoDsfd7/LsnLlu1Qhzteisu/SFL/fOSy1/Q/LHtDb7X8PDjI5M5JXpnkocv5Iqvr1NeenKTW+fXlf9dd91Lyv9juq7+Q+fn+oU/WSdw3CZBN/mz4vCdH/ZzZxN3n/Qx9mgTIGdoYAy+lDnOoQ7B+cfkl96iRtYej/ha+zvnYW/4myf90wN/OP3Y5R6EOA6qTTu+yREqdk1AnB79l4LXv8oh13W+f5LeWY+HrOPi9pfYq1aE+tU324qRO+q1D7Gq9vWPn99a/XZLfXuKx9gBcqsvFcC/Lb01ym+WX5/ql7DOTPGL5M1B7qWq7XGrL/hPz67yOOh+pft4cttRnuQ4z+eIkv7Bvpfpa/cVHnbBb57Ftsu6lZH+x3cvSz/d//ok6ifv+KUftAfF5P/hP8cV293k/Qz89BcgZ2hjNl1InM79q+SX2M9aIglq/TkKvv+mpv02v8zu+drmqVv3Nev3icNRSx3XXXpA6lKKu6nSpLpu6/+ryt73fleTnlpPQ65Cq2htV22Dv8Ky62tLLk3zTcmWyVd9PSVLH3X9vkvqP3KW4XCz3wyzrsMQKj/oz9vmXIPgnJ6l/6hDBugBCnVxbV2OrPUOHLfVZ/unls/0r+1aqk07rcM+9z/sm615K/Bfb/TDLS/3n+0ncNwkQn/eDP3kX293n/Qz99BQgZ2hjNF5K/Q16/ce8ripTh+fUFZaOWupk87qqzZuSfOXKivV5qEtk1t/+1jkkdZ7IUUvtEalDhVbPF2m8jZ176Kbu9Qbr4gAVbfUf+L2lfql9yfILXV1VqP5m2B6Qwz8OF9P9qA9h/U39l6wchrhzH9jBF1x7hOrwwPrLjjqh/KBlk7/l3WTdwbexc6Om3f18X+8jsI77/kn2gKxne9Ra0+4+7/1tMjZBgIxRntqgOjG8LqN7z+Vwhvrl9bilTmquv7msk0B/Zt/K35akrr5Ul4Q97lCTOm+hTmKv13CpLSdxXzX6+OVvlOsk599bDoN41HK1oPp354Ac/Im62O5HfY6fuByKVVe6qfNzLuWlruhWV2L7wSWcD7LY5Dj3TdblPud+lOWl/PN9v8s6n/dNAsTnfb0/xdPuPu/ruW9lLQGyFeaL9iR174g6VOqLlsOnnrHmM9UhVs9cLvlaJ/GuLvVLcB0TvHdy6FEjX5ekTnavvSWX0nJS96OM6lj6OqyodkHvXZ73uKtg1aFYB9288Lxui225H+ZXoV97GOtCDHW+1KW81KWjaw9qXayi7jt00HLclX7qogx1SFddVW+TdbnPufv5vt6naZ3P+yYB4vN+Ou4+7+u5b2UtAbIV5ovyJHUYVUVE7cX45iQ/cciz1HkFdQWJdyV527JOnVRbV/P5T8svVHsPrV/waq9HHYJV9xKpXwzqqje11KUyV5d63roCUz1vPf+lsnTcDzP6hiRPPeBqQXWCee2CrhP9966+VL/81j1Das9JHaZ1qSzbcq8/A3Wvlbpx3upSF16oc3JevO/wufPuX4cM1mdt//L4JP/bcv5XHVJ40M+ZekwdtlbnN912uZFhfW3vPiB12GgderW3bLIu9388lLPr7uf7P/0kdT/vq9OOuw+Iz/uHtLbl7vN+hn5yCpAztDE2fCl7h4PUL0X1y+v+5UXLXZz3/uZm/8nidaWs/zFJnRRdu9rrF68rliv+1EnRdTWKWurKTXV+wnOWE5/rKli1d+RrlhsZfvYBd4ve8K3s1Opd9zq8reKuzp+pv0WvE3rrPJzyrZsQ7u39KJRar8Ljw5PU8+7dCf1Tl0PuXrFTcr0Xuy33ukN37XmqQxNfn6SuglV/Br5+ifC6IeJh5zz03uHZfHRdKKH2UtQhm3UjwfKpoKhDPut8sbqKXt2c9LCfM/WXGb+53A/kx5a3WFd2q5l1ztrqTQw3Wfdsas29qm25+/n+T7dZ172uUFhXeKvlC5PU4c71F0n/dfmnbmi4t/i8f8hiW+4+73M/o9qTBEib8NQG1C8E+29Qt/pi6heDWuewXwzql9o6dKKufFWH/dSx9fU363VIxX9cGXSz5QdonRNSJ5vX37jVLyJ1Wc26Z0jd9fVSWrruFRl147w6fKqir36ZrYD8yUNu7viJyw3f/vUSIhUu37OEI/cPCRz3eV/Xvf5c1P0p6n4sdZ5OnfBeew4r6OtvNN98KaEve1jrKnf1i1UF8fuWc5YqmOvy0PXvtRz2c6a+V4+tE9bvtqxb4VKHetYhnPuXTdY9z5ui9jBvw93P93/6Keq61zb7qUM+mHW5+vpzsrr4vP+jxrbcfd7P0E9NAXKGNoaXQoAAAQIECBAgQOC8CwiQ876FvT8CBAgQIECAAAECZ0hAgJyhjeGlECBAgAABAgQIEDjvAgLkvG9h748AAQIECBAgQIDAGRIQIGdoY3gpBAgQIECAAAECBM67gAA571vY+yNAgAABAgQIECBwhgQEyBnaGF4KAQIECBAgQIAAgfMuIEDO+xb2/ggQIECAAAECBAicIQEBcoY2hpdCgAABAgQIECBA4LwLCJDzvoW9PwIECBAgQIAAAQJnSECAnKGN4aUQIECAAAECBAgQOO8CAuS8b2HvjwABAgQIECBAgMAZEhAgZ2hjeCkECBAgQIAAAQIEzruAADnvW9j7I0CAAAECBAgQIHCGBATIGdoYXgoBAgQIECBAgACB8y4gQM77Fvb+CBAgQIAAAQIECJwhAQFyhjaGl0KAAAECBAgQIEDgvAsIkPO+hb0/AgQIECBAgAABAmdIQICcoY3hpRAgQIAAAQIECBA47wIC5LxvYe+PAAECBAgQIECAwBkSECBnaGN4KQQIECBAgAABAgTOu4AAOe9b2PsjQIAAAQIECBAgcIYEBMgZ2hheCgECBAgQIECAAIHzLiBAzvsW9v4IECBAgAABAgQInCEBAXKGNoaXQoAAAQIECBAgQOC8CwiQ876FvT8CBAgQIECAAAECZ0hAgJyhjeGlECBAgAABAgQIEDjvAgLkvG9h748AAQIECBAgQIDAGRIQIGdoY3gpBAgQIECAAAECBM67gAA571vY+yNAgAABAgQIECBwhgQEyBnaGF4KAQIECBAgQIAAgfMuIEDO+xb2/ggQIECAAAECBAicIQEBcoY2hpdCgAABAgQIECBA4LwLCJDzvoW9PwIECBAgQIAAAQJnSECAnKGN4aUQIECAAAECBAgQOO8CAuS8b2HvjwABAgQIECBAgMAZEhAgZ2hjeCkECBAgQIAAAQIEzruAADnvW9j7I0CAAAECBAgQIHCGBATIGdoYXgoBAgQIECBAgACB8y4gQM77Fvb+CBAgQIAAAQIECJwhgf8fvDmwwQKpxVMAAAAASUVORK5CYII=\" width=\"640\">"
      ],
      "text/plain": [
       "<IPython.core.display.HTML object>"
      ]
     },
     "metadata": {},
     "output_type": "display_data"
    },
    {
     "data": {
      "text/plain": [
       "[<matplotlib.lines.Line2D at 0x7f91f0399128>]"
      ]
     },
     "execution_count": 4,
     "metadata": {},
     "output_type": "execute_result"
    }
   ],
   "source": [
    "# because the default is the line style '-', \n",
    "# nothing will be shown if we only pass in one point (3,2)\n",
    "plt.plot(3, 2)"
   ]
  },
  {
   "cell_type": "code",
   "execution_count": 6,
   "metadata": {
    "collapsed": false
   },
   "outputs": [
    {
     "data": {
      "text/plain": [
       "[<matplotlib.lines.Line2D at 0x7f91f034b278>]"
      ]
     },
     "execution_count": 6,
     "metadata": {},
     "output_type": "execute_result"
    }
   ],
   "source": [
    "# we can pass in '.' to plt.plot to indicate that we want\n",
    "# the point (3,2) to be indicated with a marker '.'\n",
    "plt.plot(3, 2, '.')"
   ]
  },
  {
   "cell_type": "markdown",
   "metadata": {},
   "source": [
    "Let's see how to make a plot without using the scripting layer."
   ]
  },
  {
   "cell_type": "code",
   "execution_count": 7,
   "metadata": {
    "collapsed": false
   },
   "outputs": [],
   "source": [
    "# First let's set the backend without using mpl.use() from the scripting layer\n",
    "from matplotlib.backends.backend_agg import FigureCanvasAgg\n",
    "from matplotlib.figure import Figure\n",
    "\n",
    "# create a new figure\n",
    "fig = Figure()\n",
    "\n",
    "# associate fig with the backend\n",
    "canvas = FigureCanvasAgg(fig)\n",
    "\n",
    "# add a subplot to the fig\n",
    "ax = fig.add_subplot(111)\n",
    "\n",
    "# plot the point (3,2)\n",
    "ax.plot(3, 2, '.')\n",
    "\n",
    "# save the figure to test.png\n",
    "# you can see this figure in your Jupyter workspace afterwards by going to\n",
    "# https://hub.coursera-notebooks.org/\n",
    "canvas.print_png('test.png')"
   ]
  },
  {
   "cell_type": "markdown",
   "metadata": {},
   "source": [
    "We can use html cell magic to display the image."
   ]
  },
  {
   "cell_type": "code",
   "execution_count": null,
   "metadata": {
    "collapsed": false
   },
   "outputs": [],
   "source": [
    "%%html\n",
    "<img src='test.png' />"
   ]
  },
  {
   "cell_type": "code",
   "execution_count": null,
   "metadata": {
    "collapsed": false
   },
   "outputs": [],
   "source": [
    "# create a new figure\n",
    "plt.figure()\n",
    "\n",
    "# plot the point (3,2) using the circle marker\n",
    "plt.plot(3, 2, 'o')\n",
    "\n",
    "# get the current axes\n",
    "ax = plt.gca()\n",
    "\n",
    "# Set axis properties [xmin, xmax, ymin, ymax]\n",
    "ax.axis([0,6,0,10])"
   ]
  },
  {
   "cell_type": "code",
   "execution_count": null,
   "metadata": {
    "collapsed": false
   },
   "outputs": [],
   "source": [
    "# create a new figure\n",
    "plt.figure()\n",
    "\n",
    "# plot the point (1.5, 1.5) using the circle marker\n",
    "plt.plot(1.5, 1.5, 'o')\n",
    "# plot the point (2, 2) using the circle marker\n",
    "plt.plot(2, 2, 'o')\n",
    "# plot the point (2.5, 2.5) using the circle marker\n",
    "plt.plot(2.5, 2.5, 'o')"
   ]
  },
  {
   "cell_type": "code",
   "execution_count": null,
   "metadata": {
    "collapsed": false
   },
   "outputs": [],
   "source": [
    "# get current axes\n",
    "ax = plt.gca()\n",
    "# get all the child objects the axes contains\n",
    "ax.get_children()"
   ]
  },
  {
   "cell_type": "markdown",
   "metadata": {},
   "source": [
    "# Scatterplots"
   ]
  },
  {
   "cell_type": "code",
   "execution_count": null,
   "metadata": {
    "collapsed": false,
    "scrolled": false
   },
   "outputs": [],
   "source": [
    "import numpy as np\n",
    "\n",
    "x = np.array([1,2,3,4,5,6,7,8])\n",
    "y = x\n",
    "\n",
    "plt.figure()\n",
    "plt.scatter(x, y) # similar to plt.plot(x, y, '.'), but the underlying child objects in the axes are not Line2D"
   ]
  },
  {
   "cell_type": "code",
   "execution_count": null,
   "metadata": {
    "collapsed": false
   },
   "outputs": [],
   "source": [
    "import numpy as np\n",
    "\n",
    "x = np.array([1,2,3,4,5,6,7,8])\n",
    "y = x\n",
    "\n",
    "# create a list of colors for each point to have\n",
    "# ['green', 'green', 'green', 'green', 'green', 'green', 'green', 'red']\n",
    "colors = ['green']*(len(x)-1)\n",
    "colors.append('red')\n",
    "\n",
    "plt.figure()\n",
    "\n",
    "# plot the point with size 100 and chosen colors\n",
    "plt.scatter(x, y, s=100, c=colors)"
   ]
  },
  {
   "cell_type": "code",
   "execution_count": null,
   "metadata": {
    "collapsed": false
   },
   "outputs": [],
   "source": [
    "# convert the two lists into a list of pairwise tuples\n",
    "zip_generator = zip([1,2,3,4,5], [6,7,8,9,10])\n",
    "\n",
    "print(list(zip_generator))\n",
    "# the above prints:\n",
    "# [(1, 6), (2, 7), (3, 8), (4, 9), (5, 10)]\n",
    "\n",
    "zip_generator = zip([1,2,3,4,5], [6,7,8,9,10])\n",
    "# The single star * unpacks a collection into positional arguments\n",
    "print(*zip_generator)\n",
    "# the above prints:\n",
    "# (1, 6) (2, 7) (3, 8) (4, 9) (5, 10)"
   ]
  },
  {
   "cell_type": "code",
   "execution_count": null,
   "metadata": {
    "collapsed": false
   },
   "outputs": [],
   "source": [
    "# use zip to convert 5 tuples with 2 elements each to 2 tuples with 5 elements each\n",
    "print(list(zip((1, 6), (2, 7), (3, 8), (4, 9), (5, 10))))\n",
    "# the above prints:\n",
    "# [(1, 2, 3, 4, 5), (6, 7, 8, 9, 10)]\n",
    "\n",
    "\n",
    "zip_generator = zip([1,2,3,4,5], [6,7,8,9,10])\n",
    "# let's turn the data back into 2 lists\n",
    "x, y = zip(*zip_generator) # This is like calling zip((1, 6), (2, 7), (3, 8), (4, 9), (5, 10))\n",
    "print(x)\n",
    "print(y)\n",
    "# the above prints:\n",
    "# (1, 2, 3, 4, 5)\n",
    "# (6, 7, 8, 9, 10)"
   ]
  },
  {
   "cell_type": "code",
   "execution_count": null,
   "metadata": {
    "collapsed": false
   },
   "outputs": [],
   "source": [
    "plt.figure()\n",
    "# plot a data series 'Tall students' in red using the first two elements of x and y\n",
    "plt.scatter(x[:2], y[:2], s=100, c='red', label='Tall students')\n",
    "# plot a second data series 'Short students' in blue using the last three elements of x and y \n",
    "plt.scatter(x[2:], y[2:], s=100, c='blue', label='Short students')"
   ]
  },
  {
   "cell_type": "code",
   "execution_count": null,
   "metadata": {
    "collapsed": false
   },
   "outputs": [],
   "source": [
    "# add a label to the x axis\n",
    "plt.xlabel('The number of times the child kicked a ball')\n",
    "# add a label to the y axis\n",
    "plt.ylabel('The grade of the student')\n",
    "# add a title\n",
    "plt.title('Relationship between ball kicking and grades')"
   ]
  },
  {
   "cell_type": "code",
   "execution_count": null,
   "metadata": {
    "collapsed": false
   },
   "outputs": [],
   "source": [
    "# add a legend (uses the labels from plt.scatter)\n",
    "plt.legend()"
   ]
  },
  {
   "cell_type": "code",
   "execution_count": null,
   "metadata": {
    "collapsed": false
   },
   "outputs": [],
   "source": [
    "# add the legend to loc=4 (the lower right hand corner), also gets rid of the frame and adds a title\n",
    "plt.legend(loc=4, frameon=False, title='Legend')"
   ]
  },
  {
   "cell_type": "code",
   "execution_count": null,
   "metadata": {
    "collapsed": false
   },
   "outputs": [],
   "source": [
    "# get children from current axes (the legend is the second to last item in this list)\n",
    "plt.gca().get_children()"
   ]
  },
  {
   "cell_type": "code",
   "execution_count": null,
   "metadata": {
    "collapsed": true
   },
   "outputs": [],
   "source": [
    "# get the legend from the current axes\n",
    "legend = plt.gca().get_children()[-2]"
   ]
  },
  {
   "cell_type": "code",
   "execution_count": null,
   "metadata": {
    "collapsed": false
   },
   "outputs": [],
   "source": [
    "# you can use get_children to navigate through the child artists\n",
    "legend.get_children()[0].get_children()[1].get_children()[0].get_children()"
   ]
  },
  {
   "cell_type": "code",
   "execution_count": null,
   "metadata": {
    "collapsed": false
   },
   "outputs": [],
   "source": [
    "# import the artist class from matplotlib\n",
    "from matplotlib.artist import Artist\n",
    "\n",
    "def rec_gc(art, depth=0):\n",
    "    if isinstance(art, Artist):\n",
    "        # increase the depth for pretty printing\n",
    "        print(\"  \" * depth + str(art))\n",
    "        for child in art.get_children():\n",
    "            rec_gc(child, depth+2)\n",
    "\n",
    "# Call this function on the legend artist to see what the legend is made up of\n",
    "rec_gc(plt.legend())"
   ]
  },
  {
   "cell_type": "markdown",
   "metadata": {},
   "source": [
    "# Line Plots"
   ]
  },
  {
   "cell_type": "code",
   "execution_count": null,
   "metadata": {
    "collapsed": false
   },
   "outputs": [],
   "source": [
    "import numpy as np\n",
    "\n",
    "linear_data = np.array([1,2,3,4,5,6,7,8])\n",
    "exponential_data = linear_data**2\n",
    "\n",
    "plt.figure()\n",
    "# plot the linear data and the exponential data\n",
    "plt.plot(linear_data, '-o', exponential_data, '-o')"
   ]
  },
  {
   "cell_type": "code",
   "execution_count": null,
   "metadata": {
    "collapsed": false
   },
   "outputs": [],
   "source": [
    "# plot another series with a dashed red line\n",
    "plt.plot([22,44,55], '--r')"
   ]
  },
  {
   "cell_type": "code",
   "execution_count": null,
   "metadata": {
    "collapsed": false
   },
   "outputs": [],
   "source": [
    "plt.xlabel('Some data')\n",
    "plt.ylabel('Some other data')\n",
    "plt.title('A title')\n",
    "# add a legend with legend entries (because we didn't have labels when we plotted the data series)\n",
    "plt.legend(['Baseline', 'Competition', 'Us'])"
   ]
  },
  {
   "cell_type": "code",
   "execution_count": null,
   "metadata": {
    "collapsed": false
   },
   "outputs": [],
   "source": [
    "# fill the area between the linear data and exponential data\n",
    "plt.gca().fill_between(range(len(linear_data)), \n",
    "                       linear_data, exponential_data, \n",
    "                       facecolor='blue', \n",
    "                       alpha=0.25)"
   ]
  },
  {
   "cell_type": "markdown",
   "metadata": {},
   "source": [
    "Let's try working with dates!"
   ]
  },
  {
   "cell_type": "code",
   "execution_count": null,
   "metadata": {
    "collapsed": false
   },
   "outputs": [],
   "source": [
    "plt.figure()\n",
    "\n",
    "observation_dates = np.arange('2017-01-01', '2017-01-09', dtype='datetime64[D]')\n",
    "\n",
    "plt.plot(observation_dates, linear_data, '-o',  observation_dates, exponential_data, '-o')"
   ]
  },
  {
   "cell_type": "markdown",
   "metadata": {},
   "source": [
    "Let's try using pandas"
   ]
  },
  {
   "cell_type": "code",
   "execution_count": null,
   "metadata": {
    "collapsed": false
   },
   "outputs": [],
   "source": [
    "import pandas as pd\n",
    "\n",
    "plt.figure()\n",
    "observation_dates = np.arange('2017-01-01', '2017-01-09', dtype='datetime64[D]')\n",
    "observation_dates = map(pd.to_datetime, observation_dates) # trying to plot a map will result in an error\n",
    "plt.plot(observation_dates, linear_data, '-o',  observation_dates, exponential_data, '-o')"
   ]
  },
  {
   "cell_type": "code",
   "execution_count": null,
   "metadata": {
    "collapsed": false
   },
   "outputs": [],
   "source": [
    "plt.figure()\n",
    "observation_dates = np.arange('2017-01-01', '2017-01-09', dtype='datetime64[D]')\n",
    "observation_dates = list(map(pd.to_datetime, observation_dates)) # convert the map to a list to get rid of the error\n",
    "plt.plot(observation_dates, linear_data, '-o',  observation_dates, exponential_data, '-o')"
   ]
  },
  {
   "cell_type": "code",
   "execution_count": null,
   "metadata": {
    "collapsed": false
   },
   "outputs": [],
   "source": [
    "x = plt.gca().xaxis\n",
    "\n",
    "# rotate the tick labels for the x axis\n",
    "for item in x.get_ticklabels():\n",
    "    item.set_rotation(45)"
   ]
  },
  {
   "cell_type": "code",
   "execution_count": null,
   "metadata": {
    "collapsed": false
   },
   "outputs": [],
   "source": [
    "# adjust the subplot so the text doesn't run off the image\n",
    "plt.subplots_adjust(bottom=0.25)"
   ]
  },
  {
   "cell_type": "code",
   "execution_count": null,
   "metadata": {
    "collapsed": false
   },
   "outputs": [],
   "source": [
    "ax = plt.gca()\n",
    "ax.set_xlabel('Date')\n",
    "ax.set_ylabel('Units')\n",
    "ax.set_title('Exponential vs. Linear performance')"
   ]
  },
  {
   "cell_type": "code",
   "execution_count": null,
   "metadata": {
    "collapsed": false
   },
   "outputs": [],
   "source": [
    "# you can add mathematical expressions in any text element\n",
    "ax.set_title(\"Exponential ($x^2$) vs. Linear ($x$) performance\")"
   ]
  },
  {
   "cell_type": "markdown",
   "metadata": {},
   "source": [
    "# Bar Charts"
   ]
  },
  {
   "cell_type": "code",
   "execution_count": null,
   "metadata": {
    "collapsed": false
   },
   "outputs": [],
   "source": [
    "plt.figure()\n",
    "xvals = range(len(linear_data))\n",
    "plt.bar(xvals, linear_data, width = 0.3)"
   ]
  },
  {
   "cell_type": "code",
   "execution_count": null,
   "metadata": {
    "collapsed": false
   },
   "outputs": [],
   "source": [
    "new_xvals = []\n",
    "\n",
    "# plot another set of bars, adjusting the new xvals to make up for the first set of bars plotted\n",
    "for item in xvals:\n",
    "    new_xvals.append(item+0.3)\n",
    "\n",
    "plt.bar(new_xvals, exponential_data, width = 0.3 ,color='red')"
   ]
  },
  {
   "cell_type": "code",
   "execution_count": null,
   "metadata": {
    "collapsed": false,
    "scrolled": true
   },
   "outputs": [],
   "source": [
    "from random import randint\n",
    "linear_err = [randint(0,15) for x in range(len(linear_data))] \n",
    "\n",
    "# This will plot a new set of bars with errorbars using the list of random error values\n",
    "plt.bar(xvals, linear_data, width = 0.3, yerr=linear_err)"
   ]
  },
  {
   "cell_type": "code",
   "execution_count": null,
   "metadata": {
    "collapsed": false
   },
   "outputs": [],
   "source": [
    "# stacked bar charts are also possible\n",
    "plt.figure()\n",
    "xvals = range(len(linear_data))\n",
    "plt.bar(xvals, linear_data, width = 0.3, color='b')\n",
    "plt.bar(xvals, exponential_data, width = 0.3, bottom=linear_data, color='r')"
   ]
  },
  {
   "cell_type": "code",
   "execution_count": null,
   "metadata": {
    "collapsed": false
   },
   "outputs": [],
   "source": [
    "# or use barh for horizontal bar charts\n",
    "plt.figure()\n",
    "xvals = range(len(linear_data))\n",
    "plt.barh(xvals, linear_data, height = 0.3, color='b')\n",
    "plt.barh(xvals, exponential_data, height = 0.3, left=linear_data, color='r')"
   ]
  }
 ],
 "metadata": {
  "kernelspec": {
   "display_name": "Python 3",
   "language": "python",
   "name": "python3"
  },
  "language_info": {
   "codemirror_mode": {
    "name": "ipython",
    "version": 3
   },
   "file_extension": ".py",
   "mimetype": "text/x-python",
   "name": "python",
   "nbconvert_exporter": "python",
   "pygments_lexer": "ipython3",
   "version": "3.6.2"
  }
 },
 "nbformat": 4,
 "nbformat_minor": 1
}
